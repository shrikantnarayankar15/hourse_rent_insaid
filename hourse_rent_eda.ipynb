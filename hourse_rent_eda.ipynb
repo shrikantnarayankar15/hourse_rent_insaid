{
  "nbformat": 4,
  "nbformat_minor": 0,
  "metadata": {
    "colab": {
      "name": "hourse-rent-eda.ipynb",
      "provenance": [],
      "private_outputs": true,
      "collapsed_sections": [],
      "toc_visible": true,
      "authorship_tag": "ABX9TyN5IRn3fbfLGH7TJYccc+WC",
      "include_colab_link": true
    },
    "kernelspec": {
      "name": "python3",
      "display_name": "Python 3"
    }
  },
  "cells": [
    {
      "cell_type": "markdown",
      "metadata": {
        "id": "view-in-github",
        "colab_type": "text"
      },
      "source": [
        "<a href=\"https://colab.research.google.com/github/shrikantnarayankar15/hourse_rent_insaid/blob/master/hourse_rent_eda.ipynb\" target=\"_parent\"><img src=\"https://colab.research.google.com/assets/colab-badge.svg\" alt=\"Open In Colab\"/></a>"
      ]
    },
    {
      "cell_type": "markdown",
      "metadata": {
        "id": "ZqQdk8_BbQOj",
        "colab_type": "text"
      },
      "source": [
        "#EDA on House Rent"
      ]
    },
    {
      "cell_type": "markdown",
      "metadata": {
        "id": "hCjGpVPAaY9V",
        "colab_type": "text"
      },
      "source": [
        "\n",
        "##1.Problem Statement\n",
        "  here we are going to observe the house prices by its featues like ground_size, bedroom_number, garage have or not, neightbourhood, quality of residence, etc. and we will use different models to predict the output of houses i.e. house price."
      ]
    },
    {
      "cell_type": "markdown",
      "metadata": {
        "id": "kbcWCvvgb5D7",
        "colab_type": "text"
      },
      "source": [
        "##2.Importing Packages"
      ]
    },
    {
      "cell_type": "code",
      "metadata": {
        "id": "rPHD9NKEgipk",
        "colab_type": "code",
        "colab": {}
      },
      "source": [
        "import pandas as pd\n",
        "import numpy as np\n",
        "from sympy.utilities.iterables import multiset_permutations\n",
        "import matplotlib.pyplot as plt\n",
        "from scipy.stats import boxcox_normmax, zscore\n",
        "from sklearn.linear_model import Ridge, Lasso, LinearRegression\n",
        "from sklearn.model_selection import KFold, RandomizedSearchCV\n",
        "from sklearn.metrics import mean_squared_error, make_scorer\n",
        "from sklearn.ensemble import GradientBoostingRegressor\n",
        "from mlxtend.regressor import StackingCVRegressor\n",
        "from sklearn.preprocessing import RobustScaler\n",
        "from scipy.stats import boxcox_normmax, zscore\n",
        "from multiprocessing import cpu_count\n",
        "from lightgbm import LGBMRegressor\n",
        "from scipy.special import boxcox1p\n",
        "import matplotlib.pyplot as plt\n",
        "\n",
        "from sklearn.svm import SVR\n",
        "import pandas as pd\n",
        "import numpy as np\n",
        "#library\n",
        "import pandas as pd\n",
        "import seaborn as sns\n",
        "import matplotlib.pyplot as plt\n",
        "%matplotlib inline\n",
        "\n",
        "import numpy as np\n",
        "import random as rnd\n",
        "\n",
        "from sklearn import svm, tree, linear_model, neighbors, naive_bayes, ensemble, discriminant_analysis, gaussian_process\n",
        "from xgboost import XGBClassifier\n",
        "\n",
        "#Common Model Helpers\n",
        "from sklearn.preprocessing import OneHotEncoder, LabelEncoder\n",
        "from sklearn import feature_selection\n",
        "from sklearn import model_selection\n",
        "from sklearn import metrics\n",
        "\n",
        "#Visualization\n",
        "import matplotlib as mpl\n",
        "import matplotlib.pyplot as plt\n",
        "import matplotlib.pylab as pylab\n",
        "import seaborn as sns\n",
        "from pandas.plotting import scatter_matrix\n",
        "\n",
        "# Importing Models\n",
        "from sklearn import svm, tree, linear_model, neighbors, naive_bayes, ensemble, discriminant_analysis, gaussian_process\n",
        "\n",
        "from sklearn.linear_model import LogisticRegression\n",
        "from sklearn.tree import DecisionTreeClassifier\n",
        "from sklearn.discriminant_analysis import LinearDiscriminantAnalysis\n",
        "from sklearn.ensemble import AdaBoostClassifier, RandomForestClassifier, GradientBoostingClassifier\n",
        "from sklearn.neighbors import KNeighborsClassifier\n",
        "from sklearn.svm import SVC, LinearSVC\n",
        "from xgboost import XGBClassifier\n",
        "from lightgbm import LGBMClassifier\n",
        "\n",
        "# Importing other tools\n",
        "from sklearn import model_selection\n",
        "from sklearn.metrics import confusion_matrix, classification_report, make_scorer\n",
        "from sklearn.metrics import accuracy_score, recall_score, precision_recall_curve\n",
        "from sklearn.model_selection import StratifiedKFold, cross_validate\n",
        "from sklearn.preprocessing import StandardScaler\n",
        "from sklearn.pipeline import Pipeline\n",
        "from sklearn.calibration import CalibratedClassifierCV"
      ],
      "execution_count": 0,
      "outputs": []
    },
    {
      "cell_type": "code",
      "metadata": {
        "id": "jxJHugVEiYUD",
        "colab_type": "code",
        "colab": {}
      },
      "source": [
        "# from google.colab import drive\n",
        "# drive.mount('/content/drive')"
      ],
      "execution_count": 0,
      "outputs": []
    },
    {
      "cell_type": "markdown",
      "metadata": {
        "id": "eOEzZA7cdHK5",
        "colab_type": "text"
      },
      "source": [
        "##3.Data Preprocessing"
      ]
    },
    {
      "cell_type": "code",
      "metadata": {
        "id": "y_ZwxUvikuNi",
        "colab_type": "code",
        "colab": {}
      },
      "source": [
        "#Loading Data\n",
        "df = pd.read_csv('https://raw.githubusercontent.com/shrikantnarayankar15/hourse_rent_insaid/master/train.csv',index_col=0)\n",
        "test_data = pd.read_csv('https://raw.githubusercontent.com/shrikantnarayankar15/hourse_rent_insaid/master/test.csv', index_col=0)"
      ],
      "execution_count": 0,
      "outputs": []
    },
    {
      "cell_type": "code",
      "metadata": {
        "id": "O8u0OTUw9DrL",
        "colab_type": "code",
        "colab": {}
      },
      "source": [
        "  df.head()"
      ],
      "execution_count": 0,
      "outputs": []
    },
    {
      "cell_type": "markdown",
      "metadata": {
        "id": "1IsAka6RYSxM",
        "colab_type": "text"
      },
      "source": [
        "###1.Removing Outliers"
      ]
    },
    {
      "cell_type": "code",
      "metadata": {
        "id": "2nGLwQyGXFJt",
        "colab_type": "code",
        "colab": {}
      },
      "source": [
        "sns.scatterplot(x=\"GrLivArea\", y=\"SalePrice\", data=df)"
      ],
      "execution_count": 0,
      "outputs": []
    },
    {
      "cell_type": "code",
      "metadata": {
        "id": "yMgN7-xCBeTu",
        "colab_type": "code",
        "colab": {}
      },
      "source": [
        "df = df[~(df.GrLivArea>4500)]"
      ],
      "execution_count": 0,
      "outputs": []
    },
    {
      "cell_type": "code",
      "metadata": {
        "id": "1o22PjEeaxu3",
        "colab_type": "code",
        "colab": {}
      },
      "source": [
        "sns.scatterplot(x=\"GrLivArea\", y=\"SalePrice\", data=df)"
      ],
      "execution_count": 0,
      "outputs": []
    },
    {
      "cell_type": "markdown",
      "metadata": {
        "id": "PRdWyFQra2-M",
        "colab_type": "text"
      },
      "source": [
        "###2.Combining test and training dataset\n",
        "**test** dataset does not have independent variable i.e.output variable thats why while combining we are concatenating train dataset with test dataset without SalePrice feature."
      ]
    },
    {
      "cell_type": "code",
      "metadata": {
        "id": "-qhmo73z_RUN",
        "colab_type": "code",
        "colab": {}
      },
      "source": [
        "X = pd.concat([df.drop(\"SalePrice\", axis=1), test_data])"
      ],
      "execution_count": 0,
      "outputs": []
    },
    {
      "cell_type": "code",
      "metadata": {
        "id": "Vo971-iL_f6r",
        "colab_type": "code",
        "colab": {}
      },
      "source": [
        "X.head()"
      ],
      "execution_count": 0,
      "outputs": []
    },
    {
      "cell_type": "markdown",
      "metadata": {
        "id": "jCqiANJQk-AR",
        "colab_type": "text"
      },
      "source": [
        "df.head()"
      ]
    },
    {
      "cell_type": "markdown",
      "metadata": {
        "id": "gkG-btHwKsoO",
        "colab_type": "text"
      },
      "source": [
        "###3.data Description\n",
        "\n",
        "\n",
        "*   Total 1460 rows are there\n",
        "*   81 columns are there\n",
        "\n",
        "\n",
        "\n"
      ]
    },
    {
      "cell_type": "code",
      "metadata": {
        "id": "63sQVnNHPtCk",
        "colab_type": "code",
        "colab": {}
      },
      "source": [
        "X.describe()"
      ],
      "execution_count": 0,
      "outputs": []
    },
    {
      "cell_type": "code",
      "metadata": {
        "id": "ZFxcTutvM8ZU",
        "colab_type": "code",
        "colab": {}
      },
      "source": [
        "# from  pandas_profiling import ProfileReport\n",
        "# profile = ProfileReport(test_data, title='Pandas Profiling Report', html={'style':{'full_width':True}})\n",
        "# # profile.to_notebook_iframe()\n",
        "# profile.to_file(output_file=\"output.html\")"
      ],
      "execution_count": 0,
      "outputs": []
    },
    {
      "cell_type": "markdown",
      "metadata": {
        "id": "ZD8w5X_RdA8e",
        "colab_type": "text"
      },
      "source": [
        "###4.Checking Null Values"
      ]
    },
    {
      "cell_type": "markdown",
      "metadata": {
        "id": "RCfcCMCgdsFR",
        "colab_type": "text"
      },
      "source": [
        "####1.Columns with high number of NaN"
      ]
    },
    {
      "cell_type": "code",
      "metadata": {
        "id": "o6UnKGSJdaWh",
        "colab_type": "code",
        "colab": {}
      },
      "source": [
        "# missing values\n",
        "w = X.isnull().sum()\n",
        "w = w[w>0]\n",
        "w.sort_values(ascending=False)[:5]"
      ],
      "execution_count": 0,
      "outputs": []
    },
    {
      "cell_type": "code",
      "metadata": {
        "id": "eYQVXvvk4c5Z",
        "colab_type": "code",
        "colab": {}
      },
      "source": [
        "X.drop(['PoolQC', 'MiscFeature', 'Alley', 'Fence', 'FireplaceQu'], axis=1, inplace=True)"
      ],
      "execution_count": 0,
      "outputs": []
    },
    {
      "cell_type": "markdown",
      "metadata": {
        "id": "xbkPErhydysH",
        "colab_type": "text"
      },
      "source": [
        "we will drop this columns as they high nnumber of Null values"
      ]
    },
    {
      "cell_type": "markdown",
      "metadata": {
        "id": "qzMe4PdEd7gU",
        "colab_type": "text"
      },
      "source": [
        "\n",
        "####2.filling null values\n",
        "we Are filling null values with Neighborhood, we selected this feature to fill null values because area wise they have high chances of probablity that they may have same feature."
      ]
    },
    {
      "cell_type": "code",
      "metadata": {
        "id": "Do6b_bnd4qpm",
        "colab_type": "code",
        "colab": {}
      },
      "source": [
        "# LotFrontage and MasVnrArea are continous variables\n",
        "conts_cols = ['LotFrontage', 'MasVnrArea', 'BsmtFullBath','BsmtHalfBath','TotalBsmtSF','BsmtUnfSF','BsmtFinSF2','BsmtFinSF1','GarageArea','GarageCars',]\n",
        "X[conts_cols] = X.groupby(\"Neighborhood\")[conts_cols].transform(lambda x: x.fillna(x.median()))"
      ],
      "execution_count": 0,
      "outputs": []
    },
    {
      "cell_type": "code",
      "metadata": {
        "id": "xQiUP7w94t54",
        "colab_type": "code",
        "colab": {}
      },
      "source": [
        "# fill the categorical variables\n",
        "conts_cols = ['GarageCond','MSZoning', 'Functional','SaleType', 'KitchenQual',\n",
        "       'Exterior2nd', 'Exterior1st','Utilities','GarageYrBlt','GarageFinish','GarageQual','GarageType','BsmtFinType2','BsmtExposure','BsmtFinType1','BsmtCond','BsmtQual','MasVnrType','Electrical']\n",
        "X[conts_cols] = X.groupby(\"Neighborhood\")[conts_cols].transform(lambda x: x.fillna(x.mode()[0]))"
      ],
      "execution_count": 0,
      "outputs": []
    },
    {
      "cell_type": "code",
      "metadata": {
        "id": "DUOmciMjg-qn",
        "colab_type": "code",
        "colab": {}
      },
      "source": [
        "#check null values\n",
        "w = X.isnull().sum()\n",
        "w = w[w>0]\n",
        "w.sort_values(ascending=False)"
      ],
      "execution_count": 0,
      "outputs": []
    },
    {
      "cell_type": "markdown",
      "metadata": {
        "id": "PjUKL3Ybfwyr",
        "colab_type": "text"
      },
      "source": [
        "###5.Combining features\n",
        "\n",
        "\n",
        "*   We can make ground living area and basement area together into TotalSF\n",
        "*   Same we will combine openporch, enclosedd,3Ssn and screen because they are all porch areas.\n",
        "*   TotalBath will combile all the bathrooms in the house\n"
      ]
    },
    {
      "cell_type": "code",
      "metadata": {
        "id": "F7uMFUX9ULxZ",
        "colab_type": "code",
        "colab": {}
      },
      "source": [
        "df[\"TotalSF\"] = df[\"GrLivArea\"] + df[\"TotalBsmtSF\"]\n",
        "df[\"TotalPorchSF\"] = df[\"OpenPorchSF\"] + df[\"EnclosedPorch\"] + df[\"3SsnPorch\"] + df[\"ScreenPorch\"]\n",
        "df[\"TotalBath\"] = df[\"FullBath\"] + df[\"BsmtFullBath\"] + 0.5 * (df[\"BsmtHalfBath\"] + df[\"HalfBath\"])"
      ],
      "execution_count": 0,
      "outputs": []
    },
    {
      "cell_type": "code",
      "metadata": {
        "id": "R_Wx6FQUUWG3",
        "colab_type": "code",
        "colab": {}
      },
      "source": [
        "df.drop(['BsmtFinSF2', 'MiscVal', 'PoolArea','LowQualFinSF'], axis=1,inplace=True)"
      ],
      "execution_count": 0,
      "outputs": []
    },
    {
      "cell_type": "code",
      "metadata": {
        "id": "7K_0y6Gofvwz",
        "colab_type": "code",
        "colab": {}
      },
      "source": [
        "X[\"TotalSF\"] = X[\"GrLivArea\"] + X[\"TotalBsmtSF\"]\n",
        "X[\"TotalPorchSF\"] = X[\"OpenPorchSF\"] + X[\"EnclosedPorch\"] + X[\"3SsnPorch\"] + X[\"ScreenPorch\"]\n",
        "X[\"TotalBath\"] = X[\"FullBath\"] + X[\"BsmtFullBath\"] + 0.5 * (X[\"BsmtHalfBath\"] + X[\"HalfBath\"])"
      ],
      "execution_count": 0,
      "outputs": []
    },
    {
      "cell_type": "code",
      "metadata": {
        "id": "upRIYP-If4rf",
        "colab_type": "code",
        "colab": {}
      },
      "source": [
        "X.drop(['GrLivArea', 'TotalBsmtSF','OpenPorchSF','EnclosedPorch','3SsnPorch','ScreenPorch','FullBath','BsmtFullBath','BsmtHalfBath','HalfBath'],axis=1,inplace=True)"
      ],
      "execution_count": 0,
      "outputs": []
    },
    {
      "cell_type": "markdown",
      "metadata": {
        "id": "dbStef-Geq7B",
        "colab_type": "text"
      },
      "source": [
        "###6.Checking the 0 values"
      ]
    },
    {
      "cell_type": "code",
      "metadata": {
        "id": "EMgYbqHDgG4c",
        "colab_type": "code",
        "colab": {}
      },
      "source": [
        "(X==0).sum().nlargest(7)"
      ],
      "execution_count": 0,
      "outputs": []
    },
    {
      "cell_type": "markdown",
      "metadata": {
        "id": "t4tB1BTsfVpE",
        "colab_type": "text"
      },
      "source": [
        "As we can see PoolArea, LowQualFinSFm,MiscVal and BsmtFinSF2 have more zeros, we are removing them"
      ]
    },
    {
      "cell_type": "code",
      "metadata": {
        "id": "N1VMo9Rreitt",
        "colab_type": "code",
        "colab": {}
      },
      "source": [
        "X.drop(['BsmtFinSF2', 'MiscVal', 'PoolArea','LowQualFinSF'], axis=1,inplace=True)"
      ],
      "execution_count": 0,
      "outputs": []
    },
    {
      "cell_type": "markdown",
      "metadata": {
        "id": "Whh8FqhNhNhZ",
        "colab_type": "text"
      },
      "source": [
        "##4.EDA on house-price"
      ]
    },
    {
      "cell_type": "markdown",
      "metadata": {
        "id": "qJ2UvB2iYS6t",
        "colab_type": "text"
      },
      "source": [
        "###1.checking counts of fireplaces,basements\n"
      ]
    },
    {
      "cell_type": "code",
      "metadata": {
        "id": "gbfc0I8tYYVD",
        "colab_type": "code",
        "colab": {}
      },
      "source": [
        "df['fireplace_Y_N'] = df['Fireplaces']>1\n",
        "plt.figure(figsize=(20,10))\n",
        "sns.countplot( x='fireplace_Y_N',data=df)"
      ],
      "execution_count": 0,
      "outputs": []
    },
    {
      "cell_type": "markdown",
      "metadata": {
        "id": "p7Nk1jXbYtg-",
        "colab_type": "text"
      },
      "source": [
        "- Many houses dont have fireplaces"
      ]
    },
    {
      "cell_type": "code",
      "metadata": {
        "id": "dsiCAjATaRRw",
        "colab_type": "code",
        "colab": {}
      },
      "source": [
        "plt.figure(figsize=(10,10))\n",
        "df['TotalBsmtSF_Y_N'] = df['TotalBsmtSF']>1\n",
        "sns.countplot( x='TotalBsmtSF_Y_N',data=df)"
      ],
      "execution_count": 0,
      "outputs": []
    },
    {
      "cell_type": "markdown",
      "metadata": {
        "id": "fGyCRuuialmF",
        "colab_type": "text"
      },
      "source": [
        "- only few houses dont have any kind of basement."
      ]
    },
    {
      "cell_type": "code",
      "metadata": {
        "id": "s8aXq_KBaoQp",
        "colab_type": "code",
        "colab": {}
      },
      "source": [
        "plt.figure(figsize=(10,6))\n",
        "sns.countplot( x='SaleCondition',data=df)"
      ],
      "execution_count": 0,
      "outputs": []
    },
    {
      "cell_type": "markdown",
      "metadata": {
        "id": "X2H_QwkKgUFS",
        "colab_type": "text"
      },
      "source": [
        "- normal means this are the house which are already build. and they have higher amout of data in our dataset."
      ]
    },
    {
      "cell_type": "markdown",
      "metadata": {
        "id": "wvXLuCF9g-XK",
        "colab_type": "text"
      },
      "source": [
        "###2.With Saleprice\n"
      ]
    },
    {
      "cell_type": "code",
      "metadata": {
        "id": "A8b49MbUNgwe",
        "colab_type": "code",
        "colab": {}
      },
      "source": [
        "sns.scatterplot( x='GrLivArea', y='SalePrice',hue='fireplace_Y_N',data=df)"
      ],
      "execution_count": 0,
      "outputs": []
    },
    {
      "cell_type": "code",
      "metadata": {
        "id": "aCXZ9KM8Nh2L",
        "colab_type": "code",
        "colab": {}
      },
      "source": [
        "df[['GrLivArea','SalePrice']].corr()"
      ],
      "execution_count": 0,
      "outputs": []
    },
    {
      "cell_type": "markdown",
      "metadata": {
        "id": "x4wQKbV6Nn_K",
        "colab_type": "text"
      },
      "source": [
        "- As Ground living area increases saleprice will increase too.\n",
        "- houses with fireplaces have more price"
      ]
    },
    {
      "cell_type": "code",
      "metadata": {
        "id": "ZJMlnFiMUcK8",
        "colab_type": "code",
        "colab": {}
      },
      "source": [
        "# TotalSF\n",
        "sns.barplot(x=\"TotalBath\", y=\"SalePrice\", data=df)"
      ],
      "execution_count": 0,
      "outputs": []
    },
    {
      "cell_type": "code",
      "metadata": {
        "id": "8HZJnOtnAYaO",
        "colab_type": "code",
        "colab": {}
      },
      "source": [
        "#Type of house and price\n",
        "df.groupby(['MSSubClass'])['SalePrice'].mean().sort_values(ascending=False).plot.bar()"
      ],
      "execution_count": 0,
      "outputs": []
    },
    {
      "cell_type": "markdown",
      "metadata": {
        "id": "cG3rdF9zkxwi",
        "colab_type": "text"
      },
      "source": [
        "from here we can say the type<br>\n",
        "60-   2-STORY 1946 & NEWERare having highest saleprice<br>\n",
        "after that 120, 75, 20 and so on "
      ]
    },
    {
      "cell_type": "code",
      "metadata": {
        "id": "b_pvx1ghX1GN",
        "colab_type": "code",
        "colab": {}
      },
      "source": [
        "#Type of house and price\n",
        "df.groupby(['MSZoning'])['SalePrice'].mean().sort_values(ascending=False).plot.bar()"
      ],
      "execution_count": 0,
      "outputs": []
    },
    {
      "cell_type": "markdown",
      "metadata": {
        "id": "i_ukzW8OJmB2",
        "colab_type": "text"
      },
      "source": [
        "-Floating Village Residential have higher prices than other zoning areas\n"
      ]
    },
    {
      "cell_type": "markdown",
      "metadata": {
        "id": "53XOCq4ThjFz",
        "colab_type": "text"
      },
      "source": [
        "Floating Village Residential are having higher sale price <br>\n",
        "commercial are having cheaper rates"
      ]
    },
    {
      "cell_type": "code",
      "metadata": {
        "id": "VkHtbfPoY-PU",
        "colab_type": "code",
        "colab": {}
      },
      "source": [
        "fig, axs = plt.subplots(1,2,figsize=(20,10))\n",
        "axs = axs.ravel(order='F')\n",
        "sns.scatterplot(x='LotFrontage', y=\"SalePrice\", data=df,ax=axs[0])\n",
        "sns.scatterplot(x='LotArea', y=\"SalePrice\", data=df, ax=axs[1])\n"
      ],
      "execution_count": 0,
      "outputs": []
    },
    {
      "cell_type": "code",
      "metadata": {
        "id": "1g8B4-9FlTYW",
        "colab_type": "code",
        "colab": {}
      },
      "source": [
        "df.loc[:,['LotFrontage','LotArea','SalePrice']].corr()"
      ],
      "execution_count": 0,
      "outputs": []
    },
    {
      "cell_type": "markdown",
      "metadata": {
        "id": "xBmbvZAvZTiS",
        "colab_type": "text"
      },
      "source": [
        "From here we can say if lotarea and lotfrontage will increase sale price will increase too"
      ]
    },
    {
      "cell_type": "code",
      "metadata": {
        "id": "hy9kUcZmZPcj",
        "colab_type": "code",
        "colab": {}
      },
      "source": [
        "df.groupby(['Street'])['SalePrice'].mean().plot.bar()"
      ],
      "execution_count": 0,
      "outputs": []
    },
    {
      "cell_type": "markdown",
      "metadata": {
        "id": "xoL0dHyiaCh1",
        "colab_type": "text"
      },
      "source": [
        "Home having street as Paved have more sale price "
      ]
    },
    {
      "cell_type": "code",
      "metadata": {
        "id": "PxJtbJmSKAHV",
        "colab_type": "code",
        "colab": {}
      },
      "source": [
        "df.groupby(['LotShape'])['SalePrice'].mean().sort_values(ascending=False).plot.bar()\n"
      ],
      "execution_count": 0,
      "outputs": []
    },
    {
      "cell_type": "code",
      "metadata": {
        "id": "Cl6bxZnRiSAp",
        "colab_type": "code",
        "colab": {}
      },
      "source": [
        "df.groupby(['LandContour'])['SalePrice'].mean().sort_values(ascending=False).plot.bar()"
      ],
      "execution_count": 0,
      "outputs": []
    },
    {
      "cell_type": "markdown",
      "metadata": {
        "id": "r8bWQrhfK7J_",
        "colab_type": "text"
      },
      "source": [
        "**\"Hillside - Significant slope from side to side\"** have higher saleprice"
      ]
    },
    {
      "cell_type": "code",
      "metadata": {
        "id": "Od90N3xqiYVK",
        "colab_type": "code",
        "colab": {}
      },
      "source": [
        "df.groupby(['Utilities'])['SalePrice'].mean().sort_values(ascending=False).plot.bar()"
      ],
      "execution_count": 0,
      "outputs": []
    },
    {
      "cell_type": "markdown",
      "metadata": {
        "id": "DX2jQQY3LHOX",
        "colab_type": "text"
      },
      "source": [
        "homes with all public utilites have higher saleprice\n"
      ]
    },
    {
      "cell_type": "code",
      "metadata": {
        "id": "fFrzPf_xif3V",
        "colab_type": "code",
        "colab": {}
      },
      "source": [
        "df.groupby(['LotConfig'])['SalePrice'].mean().sort_values(ascending=False).plot.bar()"
      ],
      "execution_count": 0,
      "outputs": []
    },
    {
      "cell_type": "markdown",
      "metadata": {
        "id": "PfA3cB0XLW5t",
        "colab_type": "text"
      },
      "source": [
        "home which is at the end of stree have higher saleprice\n"
      ]
    },
    {
      "cell_type": "code",
      "metadata": {
        "id": "ITo4wITwim22",
        "colab_type": "code",
        "colab": {}
      },
      "source": [
        "df.groupby(['LandSlope'])['SalePrice'].mean().sort_values(ascending=False).plot.bar()"
      ],
      "execution_count": 0,
      "outputs": []
    },
    {
      "cell_type": "markdown",
      "metadata": {
        "id": "NDYiGphLLq6C",
        "colab_type": "text"
      },
      "source": [
        "not that much differencce between sev and mode. Gentle slope house have little decrease in saleprice"
      ]
    },
    {
      "cell_type": "code",
      "metadata": {
        "id": "FNjIlgBILl9v",
        "colab_type": "code",
        "colab": {}
      },
      "source": [
        ""
      ],
      "execution_count": 0,
      "outputs": []
    },
    {
      "cell_type": "code",
      "metadata": {
        "id": "D9ZFetE7iobG",
        "colab_type": "code",
        "colab": {}
      },
      "source": [
        "df.groupby(['Neighborhood'])['SalePrice'].mean().sort_values(ascending=False).plot.bar()"
      ],
      "execution_count": 0,
      "outputs": []
    },
    {
      "cell_type": "markdown",
      "metadata": {
        "id": "0P5o-gBoL1n-",
        "colab_type": "text"
      },
      "source": [
        "Neighbourhood with Norigdge have higher saleprices."
      ]
    },
    {
      "cell_type": "code",
      "metadata": {
        "id": "cSW0tYLkiy_C",
        "colab_type": "code",
        "colab": {}
      },
      "source": [
        "df.groupby(['BldgType'])['SalePrice'].mean().sort_values(ascending=False).plot.bar()"
      ],
      "execution_count": 0,
      "outputs": []
    },
    {
      "cell_type": "code",
      "metadata": {
        "id": "JwpfiU2mjE65",
        "colab_type": "code",
        "colab": {}
      },
      "source": [
        "df.groupby(['OverallQual'])['SalePrice'].mean().sort_values(ascending=False).plot.bar()\n"
      ],
      "execution_count": 0,
      "outputs": []
    },
    {
      "cell_type": "code",
      "metadata": {
        "id": "Yi5FrUWbmyXs",
        "colab_type": "code",
        "colab": {}
      },
      "source": [
        "df.groupby(['RoofStyle'])['SalePrice'].mean().sort_values(ascending=False).plot.bar()"
      ],
      "execution_count": 0,
      "outputs": []
    },
    {
      "cell_type": "code",
      "metadata": {
        "id": "N3alyVL9m2aA",
        "colab_type": "code",
        "colab": {}
      },
      "source": [
        "df.groupby(['RoofMatl'])['SalePrice'].mean().sort_values(ascending=False).plot.bar()"
      ],
      "execution_count": 0,
      "outputs": []
    },
    {
      "cell_type": "code",
      "metadata": {
        "id": "IzitGH_4m5mr",
        "colab_type": "code",
        "colab": {}
      },
      "source": [
        "df.groupby(['BsmtFullBath'])['SalePrice'].mean().sort_values(ascending=False).plot.bar()"
      ],
      "execution_count": 0,
      "outputs": []
    },
    {
      "cell_type": "code",
      "metadata": {
        "id": "KejB-vNuiEQ5",
        "colab_type": "code",
        "colab": {}
      },
      "source": [
        "df.columns"
      ],
      "execution_count": 0,
      "outputs": []
    },
    {
      "cell_type": "code",
      "metadata": {
        "id": "Oaspj3aClQmk",
        "colab_type": "code",
        "colab": {}
      },
      "source": [
        "df.groupby(['Condition1'])['SalePrice'].mean().sort_values(ascending=False).plot.bar()"
      ],
      "execution_count": 0,
      "outputs": []
    },
    {
      "cell_type": "code",
      "metadata": {
        "id": "qEgggm3olgO_",
        "colab_type": "code",
        "colab": {}
      },
      "source": [
        "df.groupby(['Condition2'])['SalePrice'].mean().sort_values(ascending=False).plot.bar()"
      ],
      "execution_count": 0,
      "outputs": []
    },
    {
      "cell_type": "code",
      "metadata": {
        "id": "TjgfRcYgq52r",
        "colab_type": "code",
        "colab": {}
      },
      "source": [
        "\n",
        "bins = np.linspace(1900,2010,12).astype(int)\n",
        "df['YearBuilt'] = pd.cut(df['YearBuilt'], bins=bins)"
      ],
      "execution_count": 0,
      "outputs": []
    },
    {
      "cell_type": "code",
      "metadata": {
        "id": "3FN0BVgdq9eZ",
        "colab_type": "code",
        "colab": {}
      },
      "source": [
        "df.groupby(['YearBuilt'])['SalePrice'].mean().sort_values(ascending=False).plot.bar()"
      ],
      "execution_count": 0,
      "outputs": []
    },
    {
      "cell_type": "markdown",
      "metadata": {
        "id": "zyUXgp94MJZp",
        "colab_type": "text"
      },
      "source": [
        "2000-2010 have higher prices. this is due to the inflation at every year"
      ]
    },
    {
      "cell_type": "code",
      "metadata": {
        "id": "2p1494hYl3hr",
        "colab_type": "code",
        "colab": {}
      },
      "source": [
        "a = np.array(['1872','1899']).astype(int)\n",
        "b = np.linspace(1950,2010,7).astype(int)\n",
        "bins = np.concatenate([a,b])\n",
        "df['YearRemodAdd'] = pd.cut(df['YearRemodAdd'], bins=bins)"
      ],
      "execution_count": 0,
      "outputs": []
    },
    {
      "cell_type": "code",
      "metadata": {
        "id": "VajZoDLIrXyX",
        "colab_type": "code",
        "colab": {}
      },
      "source": [
        "df.groupby(['YearRemodAdd'])['SalePrice'].mean().sort_values(ascending=False).plot.bar()"
      ],
      "execution_count": 0,
      "outputs": []
    },
    {
      "cell_type": "code",
      "metadata": {
        "id": "xXbF6fJcmOen",
        "colab_type": "code",
        "colab": {}
      },
      "source": [
        "df.groupby(['RoofStyle'])['SalePrice'].mean().sort_values(ascending=False).plot.bar()"
      ],
      "execution_count": 0,
      "outputs": []
    },
    {
      "cell_type": "code",
      "metadata": {
        "id": "nBMNWKslrnOA",
        "colab_type": "code",
        "colab": {}
      },
      "source": [
        "X['RoofStyle'].value_counts()"
      ],
      "execution_count": 0,
      "outputs": []
    },
    {
      "cell_type": "code",
      "metadata": {
        "id": "kbN3pllwr6Ah",
        "colab_type": "code",
        "colab": {}
      },
      "source": [
        "df.groupby(['RoofMatl'])['SalePrice'].mean().sort_values(ascending=False).plot.bar()"
      ],
      "execution_count": 0,
      "outputs": []
    },
    {
      "cell_type": "code",
      "metadata": {
        "id": "eoqWPKHLNux2",
        "colab_type": "code",
        "colab": {}
      },
      "source": [
        "\n",
        "df.groupby(['Foundation'])['SalePrice'].mean().sort_values(ascending=False).plot.bar()"
      ],
      "execution_count": 0,
      "outputs": []
    },
    {
      "cell_type": "markdown",
      "metadata": {
        "id": "78jXCZASMkBP",
        "colab_type": "text"
      },
      "source": [
        "Roof material with **Wood Shingles** have higher prices."
      ]
    },
    {
      "cell_type": "code",
      "metadata": {
        "id": "TXmT5786tIYo",
        "colab_type": "code",
        "colab": {}
      },
      "source": [
        "df.groupby(['Electrical'])['SalePrice'].mean().sort_values(ascending=False).plot.bar()"
      ],
      "execution_count": 0,
      "outputs": []
    },
    {
      "cell_type": "markdown",
      "metadata": {
        "id": "OQmRYsU_M3Fm",
        "colab_type": "text"
      },
      "source": [
        "house with electrical circuit as SBrkr have higher prices."
      ]
    },
    {
      "cell_type": "code",
      "metadata": {
        "id": "slgaI30bu0FD",
        "colab_type": "code",
        "colab": {}
      },
      "source": [
        "df.groupby(['SaleCondition'])['SalePrice'].mean().sort_values(ascending=False).plot.bar()"
      ],
      "execution_count": 0,
      "outputs": []
    },
    {
      "cell_type": "markdown",
      "metadata": {
        "id": "8Ec-TMgzNBCD",
        "colab_type": "text"
      },
      "source": [
        "if sale condition is partial have higher sale prices. because they are to be build in future and will be recorded as new homes."
      ]
    },
    {
      "cell_type": "markdown",
      "metadata": {
        "id": "w4HfJXPRSf50",
        "colab_type": "text"
      },
      "source": [
        "###3.With OverallQuality"
      ]
    },
    {
      "cell_type": "code",
      "metadata": {
        "id": "l-vh2Cu5Slrr",
        "colab_type": "code",
        "colab": {}
      },
      "source": [
        "sns.barplot(x='MSSubClass', y='OverallQual',data=df)"
      ],
      "execution_count": 0,
      "outputs": []
    },
    {
      "cell_type": "markdown",
      "metadata": {
        "id": "YTN2XFJxO9S3",
        "colab_type": "text"
      },
      "source": [
        "MSsubclass with 60 and 120 have good overallQuality<br>\n",
        "60-(2-STORY 1946 & NEWER)<br>\n",
        "120-(1-STORY PUD (Planned Unit Development) - 1946 & NEWER"
      ]
    },
    {
      "cell_type": "code",
      "metadata": {
        "id": "DNxKuaFNOSQT",
        "colab_type": "code",
        "colab": {}
      },
      "source": [
        "plt.figure(figsize=(20,10))\n",
        "sns.barplot(x='Neighborhood', y='OverallQual',data=df, order=df.groupby('Neighborhood')['OverallQual'].mean().sort_values().index)"
      ],
      "execution_count": 0,
      "outputs": []
    },
    {
      "cell_type": "markdown",
      "metadata": {
        "id": "qjSjjEWPQpZc",
        "colab_type": "text"
      },
      "source": [
        "-NridgHt have higher quality <br>\n",
        "-meaddow have lowest quality of houses"
      ]
    },
    {
      "cell_type": "code",
      "metadata": {
        "id": "XFkX7ZH5Q7YC",
        "colab_type": "code",
        "colab": {}
      },
      "source": [
        "plt.figure(figsize=(20,10))\n",
        "sns.barplot(x='MSZoning', y='OverallQual',data=df, order=df.groupby('MSZoning')['OverallQual'].mean().sort_values().index)"
      ],
      "execution_count": 0,
      "outputs": []
    },
    {
      "cell_type": "markdown",
      "metadata": {
        "id": "BRYJbcZURBx3",
        "colab_type": "text"
      },
      "source": [
        "-FV have higher overallquality in MSZoning"
      ]
    },
    {
      "cell_type": "code",
      "metadata": {
        "id": "74uGkre1Rflw",
        "colab_type": "code",
        "colab": {}
      },
      "source": [
        "plt.figure(figsize=(20,10))\n",
        "sns.lineplot(x='OverallQual', y='SalePrice',data=df)"
      ],
      "execution_count": 0,
      "outputs": []
    },
    {
      "cell_type": "markdown",
      "metadata": {
        "id": "o9p78xZ3RnW6",
        "colab_type": "text"
      },
      "source": [
        "We can say from this as the OverallQual increases, price of house also increase."
      ]
    },
    {
      "cell_type": "markdown",
      "metadata": {
        "id": "vZUG3tYCX1Vw",
        "colab_type": "text"
      },
      "source": [
        "- Names have more houses after that CollgCr is there.\n",
        "- Blueste have lowest no. of house"
      ]
    },
    {
      "cell_type": "markdown",
      "metadata": {
        "id": "ytGn_axSU45u",
        "colab_type": "text"
      },
      "source": [
        "###4.Data Distribution using box plot"
      ]
    },
    {
      "cell_type": "code",
      "metadata": {
        "id": "LPkcP94YTI0H",
        "colab_type": "code",
        "colab": {}
      },
      "source": [
        " numeric_columns = df.select_dtypes(include=['number']).columns"
      ],
      "execution_count": 0,
      "outputs": []
    },
    {
      "cell_type": "code",
      "metadata": {
        "id": "XuN0SVitVyNr",
        "colab_type": "code",
        "colab": {}
      },
      "source": [
        "df[numeric_columns]"
      ],
      "execution_count": 0,
      "outputs": []
    },
    {
      "cell_type": "code",
      "metadata": {
        "id": "36SZbhjSj7Fq",
        "colab_type": "code",
        "colab": {}
      },
      "source": [
        "df.dtypes.unique()"
      ],
      "execution_count": 0,
      "outputs": []
    },
    {
      "cell_type": "code",
      "metadata": {
        "id": "k8CTt0cbkF8p",
        "colab_type": "code",
        "colab": {}
      },
      "source": [
        ""
      ],
      "execution_count": 0,
      "outputs": []
    },
    {
      "cell_type": "code",
      "metadata": {
        "id": "NK36RiVDWXbw",
        "colab_type": "code",
        "colab": {}
      },
      "source": [
        "#standardize \n",
        "from sklearn.preprocessing import StandardScaler\n",
        "df_copy = df[numeric_columns].copy()\n",
        "df_copy[numeric_columns] = StandardScaler().fit_transform(df[numeric_columns])"
      ],
      "execution_count": 0,
      "outputs": []
    },
    {
      "cell_type": "code",
      "metadata": {
        "id": "j2mdDRZHUIUI",
        "colab_type": "code",
        "colab": {}
      },
      "source": [
        "plt.figure(figsize=(20,10))\n",
        "ax=sns.boxplot(data=df_copy[numeric_columns], orient=\"h\", palette=\"Set2\")"
      ],
      "execution_count": 0,
      "outputs": []
    },
    {
      "cell_type": "markdown",
      "metadata": {
        "id": "fO_O9-9MhwlL",
        "colab_type": "text"
      },
      "source": [
        "###5.FeatureCorrelation"
      ]
    },
    {
      "cell_type": "code",
      "metadata": {
        "id": "wfwziruQlWty",
        "colab_type": "code",
        "colab": {}
      },
      "source": [
        "#dropping the columns after eda\n",
        "df.drop(['GrLivArea', 'TotalBsmtSF','OpenPorchSF','EnclosedPorch','3SsnPorch','ScreenPorch','FullBath','BsmtFullBath','BsmtHalfBath','HalfBath'],axis=1,inplace=True)"
      ],
      "execution_count": 0,
      "outputs": []
    },
    {
      "cell_type": "code",
      "metadata": {
        "id": "TKotxd2olh6b",
        "colab_type": "code",
        "colab": {}
      },
      "source": [
        "\n",
        "features = df.select_dtypes(include=('int64','float64')).columns\n",
        "features = np.array(features)\n",
        "index = np.argwhere(features=='SalePrice')\n",
        "features = np.delete(features, index)\n"
      ],
      "execution_count": 0,
      "outputs": []
    },
    {
      "cell_type": "code",
      "metadata": {
        "id": "O2mDEOwxV8W4",
        "colab_type": "code",
        "colab": {}
      },
      "source": [
        "w = pd.get_dummies(df[features])\n",
        "w = w.fillna(0)\n",
        "x_corr = w\n",
        "y_corr = np.log(df['SalePrice'])"
      ],
      "execution_count": 0,
      "outputs": []
    },
    {
      "cell_type": "code",
      "metadata": {
        "id": "cw-P-iIWh0sJ",
        "colab_type": "code",
        "colab": {}
      },
      "source": [
        "plt.figure(figsize=(20,10))\n",
        "from yellowbrick.target import FeatureCorrelation\n",
        "visualizer = FeatureCorrelation(labels=features)\n",
        "visualizer.fit(x_corr.values, y_corr.values)"
      ],
      "execution_count": 0,
      "outputs": []
    },
    {
      "cell_type": "markdown",
      "metadata": {
        "id": "K3Yw_TrWqFtw",
        "colab_type": "text"
      },
      "source": [
        "##5.Preprocessing after EDA\n",
        "\n",
        "\n",
        "*   creating bins for yearbuilt\n",
        "*   same for yearremoveadd\n",
        "\n"
      ]
    },
    {
      "cell_type": "code",
      "metadata": {
        "id": "6BtE1x5TqnWK",
        "colab_type": "code",
        "colab": {}
      },
      "source": [
        "a = np.array(['1872','1899']).astype(int)\n",
        "b = np.linspace(1900,2010,12).astype(int)\n",
        "bins = np.concatenate([a,b])\n",
        "\n",
        "X['YearBuilt'] = pd.cut(X['YearBuilt'], bins=bins)"
      ],
      "execution_count": 0,
      "outputs": []
    },
    {
      "cell_type": "code",
      "metadata": {
        "id": "4QFQmlAN12dH",
        "colab_type": "code",
        "colab": {}
      },
      "source": [
        ""
      ],
      "execution_count": 0,
      "outputs": []
    },
    {
      "cell_type": "code",
      "metadata": {
        "id": "JwdWev0zquVC",
        "colab_type": "code",
        "colab": {}
      },
      "source": [
        "# a = np.array(['1872','1899']).astype(int)\n",
        "b = np.linspace(1950,2010,7).astype(int)\n",
        "bins = np.concatenate([a,b])\n",
        "X['YearRemodAdd'] = pd.cut(X['YearRemodAdd'], bins=bins)"
      ],
      "execution_count": 0,
      "outputs": []
    },
    {
      "cell_type": "markdown",
      "metadata": {
        "id": "vXPEtwqvl-bZ",
        "colab_type": "text"
      },
      "source": [
        "##6.Model Evaluation"
      ]
    },
    {
      "cell_type": "code",
      "metadata": {
        "id": "GZyYpMOSFHp2",
        "colab_type": "code",
        "colab": {}
      },
      "source": [
        "import numpy as np\n",
        "import pandas as pd\n",
        "import seaborn as sns\n",
        "import matplotlib.pyplot as plt\n",
        "from sklearn.preprocessing import LabelEncoder, OneHotEncoder\n",
        "import warnings\n",
        "warnings.filterwarnings(\"ignore\")\n",
        "from sklearn.model_selection import train_test_split\n",
        "from sklearn.svm import SVC\n",
        "np.random.seed(123)"
      ],
      "execution_count": 0,
      "outputs": []
    },
    {
      "cell_type": "markdown",
      "metadata": {
        "id": "N5gzMBXqWpva",
        "colab_type": "text"
      },
      "source": [
        "###1.Convert Categorical Variables to numerical data\n",
        "\n"
      ]
    },
    {
      "cell_type": "code",
      "metadata": {
        "id": "Ph-oeImsWyYx",
        "colab_type": "code",
        "colab": {}
      },
      "source": [
        "X_p = pd.get_dummies(X)\n",
        "train_data= X_p.loc[df.index]\n",
        "train_temp= df['SalePrice']\n",
        "train_output = np.log(df['SalePrice'])"
      ],
      "execution_count": 0,
      "outputs": []
    },
    {
      "cell_type": "code",
      "metadata": {
        "id": "u7lVXG24q0-F",
        "colab_type": "code",
        "colab": {}
      },
      "source": [
        "X_p.shape"
      ],
      "execution_count": 0,
      "outputs": []
    },
    {
      "cell_type": "code",
      "metadata": {
        "id": "do1tCoidZ6wj",
        "colab_type": "code",
        "colab": {}
      },
      "source": [
        "residuals = train_output - LinearRegression().fit(train_data, train_output).predict(train_data)\n",
        "outliers = residuals[np.abs(zscore(residuals)) > 3].index\n",
        "train_data = train_data.drop(outliers)\n",
        "train_output = train_output.drop(outliers)\n",
        "train_temp = train_temp.drop(outliers)"
      ],
      "execution_count": 0,
      "outputs": []
    },
    {
      "cell_type": "code",
      "metadata": {
        "id": "v2hQoXr_Hg58",
        "colab_type": "code",
        "colab": {}
      },
      "source": [
        "from mlxtend.feature_selection import SequentialFeatureSelector as SFS\n",
        "from sklearn.linear_model import ElasticNet\n",
        "logi = ElasticNet()\n",
        "sfs1 = SFS(logi, \n",
        "           k_features=245, \n",
        "           forward=False, \n",
        "           floating=False, \n",
        "           verbose=2,\n",
        "           n_jobs=5,\n",
        "           scoring='neg_mean_squared_error',\n",
        "           cv=0)\n",
        "sfs1 = sfs1.fit(train_data.values, train_temp)"
      ],
      "execution_count": 0,
      "outputs": []
    },
    {
      "cell_type": "code",
      "metadata": {
        "id": "oHD9ev6brbnK",
        "colab_type": "code",
        "colab": {}
      },
      "source": [
        "# from sklearn.feature_selection import SelectKBest, chi2\n",
        "# model_kbest = SelectKBest(chi2, k=260).fit(train_data, train_temp)\n",
        "train_data.head()"
      ],
      "execution_count": 0,
      "outputs": []
    },
    {
      "cell_type": "code",
      "metadata": {
        "id": "RjivsTFiU8p2",
        "colab_type": "code",
        "colab": {}
      },
      "source": [
        "train_data=train_data.iloc[:,list(sfs1.k_feature_idx_)]"
      ],
      "execution_count": 0,
      "outputs": []
    },
    {
      "cell_type": "code",
      "metadata": {
        "id": "arhl00iUvrQ2",
        "colab_type": "code",
        "colab": {}
      },
      "source": [
        "train_data.shape,train_output.shape"
      ],
      "execution_count": 0,
      "outputs": []
    },
    {
      "cell_type": "markdown",
      "metadata": {
        "id": "DGHVltz6TKuu",
        "colab_type": "text"
      },
      "source": [
        "###2.Split the Dataset into train and test"
      ]
    },
    {
      "cell_type": "code",
      "metadata": {
        "id": "e5y85cZLTaA0",
        "colab_type": "code",
        "colab": {}
      },
      "source": [
        "X_th, X_tr, y_th,y_tr = train_test_split(train_data, train_output, test_size=0.2)"
      ],
      "execution_count": 0,
      "outputs": []
    },
    {
      "cell_type": "code",
      "metadata": {
        "id": "1toYnwGnWGxg",
        "colab_type": "code",
        "colab": {}
      },
      "source": [
        "X_th.shape, X_tr.shape, y_th.shape,y_tr.shape"
      ],
      "execution_count": 0,
      "outputs": []
    },
    {
      "cell_type": "markdown",
      "metadata": {
        "id": "_160xibyWRlu",
        "colab_type": "text"
      },
      "source": [
        "###3.Standardize the Data"
      ]
    },
    {
      "cell_type": "code",
      "metadata": {
        "id": "WQaC8jyLWV34",
        "colab_type": "code",
        "colab": {}
      },
      "source": [
        "from sklearn.preprocessing import MinMaxScaler\n",
        "X_th = StandardScaler().fit_transform(X_th)\n",
        "X_tr = StandardScaler().fit_transform(X_tr)"
      ],
      "execution_count": 0,
      "outputs": []
    },
    {
      "cell_type": "markdown",
      "metadata": {
        "id": "ZA2hXC7HTD3a",
        "colab_type": "text"
      },
      "source": [
        "###4.Predict Using Different Models\n",
        "\n",
        "\n",
        "1.   Linear Regression\n",
        "2.   Decision Tree\n",
        "3.   Random Forest\n",
        "4.   GRIDCV\n",
        "\n"
      ]
    },
    {
      "cell_type": "markdown",
      "metadata": {
        "id": "J0eF4PFqYHFa",
        "colab_type": "text"
      },
      "source": [
        "#####1.Linear Regression"
      ]
    },
    {
      "cell_type": "code",
      "metadata": {
        "id": "uMXdaxA3YJil",
        "colab_type": "code",
        "colab": {}
      },
      "source": [
        "from sklearn.tree import DecisionTreeRegressor\n",
        "#create model\n",
        "model = LinearRegression()\n",
        "#fit data into model i.e.train\n",
        "model.fit(X_th, y_th)"
      ],
      "execution_count": 0,
      "outputs": []
    },
    {
      "cell_type": "code",
      "metadata": {
        "id": "sd5eecP-TAkU",
        "colab_type": "code",
        "colab": {}
      },
      "source": [
        "#predict the test data\n",
        "y_pred = model.predict(X_tr)"
      ],
      "execution_count": 0,
      "outputs": []
    },
    {
      "cell_type": "code",
      "metadata": {
        "id": "RVChSgLOYewl",
        "colab_type": "code",
        "colab": {}
      },
      "source": [
        "from sklearn.metrics import mean_squared_error\n",
        "from math import sqrt\n",
        "#calculate the accuracy\n",
        "rms_linear = sqrt(mean_squared_error(y_tr, y_pred))\n",
        "print('LinearRegression:',rms_linear)"
      ],
      "execution_count": 0,
      "outputs": []
    },
    {
      "cell_type": "markdown",
      "metadata": {
        "id": "CX4SPDEgc3zi",
        "colab_type": "text"
      },
      "source": [
        "#####2.Decision Tree"
      ]
    },
    {
      "cell_type": "code",
      "metadata": {
        "id": "2cvRvXJpc6wg",
        "colab_type": "code",
        "colab": {}
      },
      "source": [
        "from sklearn.tree import DecisionTreeRegressor\n",
        "#create model\n",
        "model = DecisionTreeRegressor()\n",
        "#fit data into model i.e.train\n",
        "model.fit(X_th, y_th)"
      ],
      "execution_count": 0,
      "outputs": []
    },
    {
      "cell_type": "code",
      "metadata": {
        "id": "Pt7TuqHRc8zM",
        "colab_type": "code",
        "colab": {}
      },
      "source": [
        "#predict the test data\n",
        "y_pred = model.predict(X_tr)"
      ],
      "execution_count": 0,
      "outputs": []
    },
    {
      "cell_type": "code",
      "metadata": {
        "id": "_f8duVgsc9f-",
        "colab_type": "code",
        "colab": {}
      },
      "source": [
        "#calculate the accuracy\n",
        "rms_decisiontree = sqrt(mean_squared_error(y_tr, y_pred))\n",
        "print('DecisionTreeRegressor:',rms_decisiontree)"
      ],
      "execution_count": 0,
      "outputs": []
    },
    {
      "cell_type": "markdown",
      "metadata": {
        "id": "jKke35AOeM7V",
        "colab_type": "text"
      },
      "source": [
        "#####3.Random Forest"
      ]
    },
    {
      "cell_type": "code",
      "metadata": {
        "id": "nQ0U2emyeOOU",
        "colab_type": "code",
        "colab": {}
      },
      "source": [
        "from sklearn.ensemble import RandomForestRegressor\n",
        "random_forest_model = RandomForestRegressor(max_depth=2, random_state=0)\n",
        "random_forest_model.fit(X_th, y_th)"
      ],
      "execution_count": 0,
      "outputs": []
    },
    {
      "cell_type": "code",
      "metadata": {
        "id": "I9N0Kmv5eUBO",
        "colab_type": "code",
        "colab": {}
      },
      "source": [
        "#predict the test data\n",
        "y_pred = random_forest_model.predict(X_tr)"
      ],
      "execution_count": 0,
      "outputs": []
    },
    {
      "cell_type": "code",
      "metadata": {
        "id": "sjF-FeSmeVB7",
        "colab_type": "code",
        "colab": {}
      },
      "source": [
        "#calculate the accuracy\n",
        "rms_random = sqrt(mean_squared_error(y_tr, y_pred))\n",
        "print('DecisionTreeRegressor:',rms_random)"
      ],
      "execution_count": 0,
      "outputs": []
    },
    {
      "cell_type": "markdown",
      "metadata": {
        "id": "dH8yUF4PefDt",
        "colab_type": "text"
      },
      "source": [
        "#####4.GRID CV"
      ]
    },
    {
      "cell_type": "code",
      "metadata": {
        "id": "HFWeZlc4ehJW",
        "colab_type": "code",
        "colab": {}
      },
      "source": [
        "\n",
        "from sklearn.model_selection import GridSearchCV\n",
        "param_grid = {\n",
        "    'bootstrap': [True],\n",
        "    'max_depth': [80, 90, 100, 110],\n",
        "    'max_features': [2, 3],\n",
        "    'min_samples_leaf': [3, 4, 5],\n",
        "    'min_samples_split': [8, 10, 12],\n",
        "    'n_estimators': [100, 200, 300, 1000]\n",
        "}\n",
        "grid_search = GridSearchCV(estimator = random_forest_model, param_grid = param_grid, \n",
        "                          cv = 3, n_jobs = -1, verbose = 2)\n",
        "grid_search.fit(X_th, y_th)"
      ],
      "execution_count": 0,
      "outputs": []
    },
    {
      "cell_type": "code",
      "metadata": {
        "id": "QBYPL5fke576",
        "colab_type": "code",
        "colab": {}
      },
      "source": [
        "#predict the test data\n",
        "y_pred = grid_search.predict(X_tr)"
      ],
      "execution_count": 0,
      "outputs": []
    },
    {
      "cell_type": "code",
      "metadata": {
        "id": "QGGxwSnve7Ic",
        "colab_type": "code",
        "colab": {}
      },
      "source": [
        "#calculate the accuracy\n",
        "rms_gridcv = sqrt(mean_squared_error(y_tr, y_pred))\n",
        "print('GRIDCV:',rms_gridcv)"
      ],
      "execution_count": 0,
      "outputs": []
    },
    {
      "cell_type": "markdown",
      "metadata": {
        "id": "m10DZkCeJPi5",
        "colab_type": "text"
      },
      "source": [
        "#####5.RandomizedSearchCV"
      ]
    },
    {
      "cell_type": "code",
      "metadata": {
        "id": "dJzB-8xNIZ_l",
        "colab_type": "code",
        "colab": {}
      },
      "source": [
        "\n",
        "from sklearn.model_selection import RandomizedSearchCV\n",
        "from sklearn.feature_selection import SelectKBest, chi2\n",
        "# Number of trees in random forest\n",
        "n_estimators = [int(x) for x in np.linspace(start = 200, stop = 2000, num = 10)]\n",
        "# Number of features to consider at every split\n",
        "max_features = ['auto', 'sqrt']\n",
        "# Maximum number of levels in tree\n",
        "max_depth = [int(x) for x in np.linspace(10, 110, num = 11)]\n",
        "max_depth.append(None)\n",
        "# Minimum number of samples required to split a node\n",
        "min_samples_split = [2, 5, 10]\n",
        "# Minimum number of samples required at each leaf node\n",
        "min_samples_leaf = [1, 2, 4]\n",
        "# Method of selecting samples for training each tree\n",
        "bootstrap = [True, False]\n",
        "random_grid = {'n_estimators': n_estimators,\n",
        "               'max_features': max_features,\n",
        "               'max_depth': max_depth,\n",
        "               'min_samples_split': min_samples_split,\n",
        "               'min_samples_leaf': min_samples_leaf,\n",
        "               'bootstrap': bootstrap}\n",
        "X_new = SelectKBest(chi2, k=20).fit_transform(X, y)\n",
        "rf_random = RandomizedSearchCV(estimator = random_forest_model, param_distributions = random_grid, n_iter = 100, cv = 3, verbose=2, random_state=42, n_jobs = -1)\n",
        "rf_random.fit(X_th, y_th)"
      ],
      "execution_count": 0,
      "outputs": []
    },
    {
      "cell_type": "code",
      "metadata": {
        "id": "B_uslxVmJEfS",
        "colab_type": "code",
        "colab": {}
      },
      "source": [
        "#predict the test data\n",
        "y_pred = rf_random.predict(X_tr)"
      ],
      "execution_count": 0,
      "outputs": []
    },
    {
      "cell_type": "code",
      "metadata": {
        "id": "dGyTSkREJFY6",
        "colab_type": "code",
        "colab": {}
      },
      "source": [
        "#calculate the accuracy\n",
        "rms_randomcv = sqrt(mean_squared_error(y_tr, y_pred))\n",
        "print('GRIDCV:',rms_randomcv)"
      ],
      "execution_count": 0,
      "outputs": []
    },
    {
      "cell_type": "markdown",
      "metadata": {
        "id": "Tk6oaPu_dMs2",
        "colab_type": "text"
      },
      "source": [
        "#7.Kaggle Competition testing"
      ]
    },
    {
      "cell_type": "code",
      "metadata": {
        "id": "yReN-7YEsacT",
        "colab_type": "code",
        "colab": {}
      },
      "source": [
        "def train_ensemble(X_th, y_th):\n",
        "  from sklearn.pipeline import make_pipeline\n",
        "  from xgboost import XGBRegressor\n",
        "  from sklearn.linear_model import RidgeCV, LassoCV, ElasticNetCV\n",
        "  kfolds = KFold(n_splits=10, shuffle=True, random_state=42)\n",
        "  alphas_alt = [14.5, 14.6, 14.7, 14.8, 14.9, 15, 15.1, 15.2, 15.3, 15.4, 15.5]\n",
        "  alphas2 = [5e-05, 0.0001, 0.0002, 0.0003, 0.0004, 0.0005, 0.0006, 0.0007, 0.0008]\n",
        "  e_alphas = [0.0001, 0.0002, 0.0003, 0.0004, 0.0005, 0.0006, 0.0007]\n",
        "  e_l1ratio = [0.8, 0.85, 0.9, 0.95, 0.99, 1]\n",
        "\n",
        "  ridge = make_pipeline(RobustScaler(),\n",
        "                        RidgeCV(alphas=alphas_alt, cv=kfolds,))\n",
        "\n",
        "  lasso = make_pipeline(RobustScaler(),\n",
        "                        LassoCV(max_iter=1e7, alphas=alphas2,\n",
        "                                random_state=42, cv=kfolds))\n",
        "\n",
        "  elasticnet = make_pipeline(RobustScaler(),\n",
        "                            ElasticNetCV(max_iter=1e7, alphas=e_alphas,\n",
        "                                          cv=kfolds, random_state=42, l1_ratio=e_l1ratio))\n",
        "                                          \n",
        "  svr = make_pipeline(RobustScaler(),\n",
        "                        SVR(C= 20, epsilon= 0.008, gamma=0.0003,))\n",
        "\n",
        "\n",
        "  gbr = GradientBoostingRegressor(n_estimators=3000, learning_rate=0.05,\n",
        "                                    max_depth=4, max_features='sqrt',\n",
        "                                    min_samples_leaf=15, min_samples_split=10, \n",
        "                                    loss='huber', random_state =42)\n",
        "                                    \n",
        "\n",
        "  lightgbm = LGBMRegressor(objective='regression', \n",
        "                                        num_leaves=4,\n",
        "                                        learning_rate=0.01, \n",
        "                                        n_estimators=5000,\n",
        "                                        max_bin=200, \n",
        "                                        bagging_fraction=0.75,\n",
        "                                        bagging_freq=5, \n",
        "                                        bagging_seed=7,\n",
        "                                        feature_fraction=0.2,\n",
        "                                        feature_fraction_seed=7,\n",
        "                                        verbose=-1,\n",
        "                                        #min_data_in_leaf=2,\n",
        "                                        #min_sum_hessian_in_leaf=11\n",
        "                                        )\n",
        "                                        \n",
        "\n",
        "  xgboost = XGBRegressor(learning_rate=0.01, n_estimators=3460,\n",
        "                                      max_depth=3, min_child_weight=0,\n",
        "                                      gamma=0, subsample=0.7,\n",
        "                                      colsample_bytree=0.7,\n",
        "                                      objective ='reg:squarederror', nthread=-1,\n",
        "                                      scale_pos_weight=1, seed=27,\n",
        "                                      reg_alpha=0.00006, random_state=42)\n",
        "\n",
        "  # stack\n",
        "  stack_gen = StackingCVRegressor(regressors=(ridge, lasso, elasticnet,\n",
        "                                              gbr, xgboost, lightgbm),\n",
        "                                  meta_regressor=xgboost,\n",
        "                                  use_features_in_secondary=True)\n",
        "  print(\"hehe\")\n",
        "  stack_gen.fit(X_th, y_th)\n",
        "  return stack_gen"
      ],
      "execution_count": 0,
      "outputs": []
    },
    {
      "cell_type": "code",
      "metadata": {
        "id": "1GcJaQjEua5L",
        "colab_type": "code",
        "colab": {}
      },
      "source": [
        "X_test = X_p.loc[test_data.index]\n",
        "X_test = X_test.iloc[:,list(sfs1.k_feature_idx_)]\n",
        "X_test = StandardScaler().fit_transform(X_test)"
      ],
      "execution_count": 0,
      "outputs": []
    },
    {
      "cell_type": "code",
      "metadata": {
        "id": "LKfpG1rk8dk7",
        "colab_type": "code",
        "colab": {}
      },
      "source": [
        "train_data= StandardScaler().fit_transform(train_data)\n"
      ],
      "execution_count": 0,
      "outputs": []
    },
    {
      "cell_type": "code",
      "metadata": {
        "id": "mvFoLc8t8k9F",
        "colab_type": "code",
        "colab": {}
      },
      "source": [
        "# have train_data and train_output\n",
        "model = train_ensemble(train_data,train_output.values)"
      ],
      "execution_count": 0,
      "outputs": []
    },
    {
      "cell_type": "code",
      "metadata": {
        "id": "cK2W6ematbO6",
        "colab_type": "code",
        "colab": {}
      },
      "source": [
        "y_pred=model.predict(X_test)\n",
        "submission = pd.DataFrame({\"Id\": test_data.index.values, \"SalePrice\":np.exp(y_pred)})\n",
        "submission.to_csv(\"submission_house_rent.csv\", index=False)"
      ],
      "execution_count": 0,
      "outputs": []
    }
  ]
}