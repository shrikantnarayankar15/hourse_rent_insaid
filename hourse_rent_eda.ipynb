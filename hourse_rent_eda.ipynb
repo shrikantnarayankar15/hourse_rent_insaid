{
  "nbformat": 4,
  "nbformat_minor": 0,
  "metadata": {
    "colab": {
      "name": "hourse-rent-eda.ipynb",
      "provenance": [],
      "private_outputs": true,
      "collapsed_sections": [],
      "toc_visible": true,
      "authorship_tag": "ABX9TyN9G3FgvUCaigNmENkmxZXV",
      "include_colab_link": true
    },
    "kernelspec": {
      "name": "python3",
      "display_name": "Python 3"
    }
  },
  "cells": [
    {
      "cell_type": "markdown",
      "metadata": {
        "id": "view-in-github",
        "colab_type": "text"
      },
      "source": [
        "<a href=\"https://colab.research.google.com/github/shrikantnarayankar15/hourse_rent_insaid/blob/master/hourse_rent_eda.ipynb\" target=\"_parent\"><img src=\"https://colab.research.google.com/assets/colab-badge.svg\" alt=\"Open In Colab\"/></a>"
      ]
    },
    {
      "cell_type": "markdown",
      "metadata": {
        "id": "ZqQdk8_BbQOj",
        "colab_type": "text"
      },
      "source": [
        "#EDA on House Rent"
      ]
    },
    {
      "cell_type": "markdown",
      "metadata": {
        "id": "hCjGpVPAaY9V",
        "colab_type": "text"
      },
      "source": [
        "\n",
        "##1.Problem Statement\n",
        "  here we are going to observe the house prices by its featues like ground_size, bedroom_number, garage have or not, neightbourhood, quality of residence, etc. and we will use different models to predict the output of houses i.e. house price."
      ]
    },
    {
      "cell_type": "markdown",
      "metadata": {
        "id": "kbcWCvvgb5D7",
        "colab_type": "text"
      },
      "source": [
        "##2.Importing Packages"
      ]
    },
    {
      "cell_type": "code",
      "metadata": {
        "id": "rPHD9NKEgipk",
        "colab_type": "code",
        "colab": {}
      },
      "source": [
        "import pandas as pd\n",
        "import numpy as np\n",
        "import matplotlib.pyplot as plt\n",
        "from scipy.stats import boxcox_normmax, zscore\n",
        "from sklearn.linear_model import Ridge, Lasso, LinearRegression\n",
        "from sklearn.model_selection import KFold, RandomizedSearchCV\n",
        "from sklearn.metrics import mean_squared_error, make_scorer\n",
        "from sklearn.ensemble import GradientBoostingRegressor\n",
        "from mlxtend.regressor import StackingCVRegressor\n",
        "from sklearn.preprocessing import RobustScaler\n",
        "from scipy.stats import boxcox_normmax, zscore\n",
        "from multiprocessing import cpu_count\n",
        "from lightgbm import LGBMRegressor\n",
        "from scipy.special import boxcox1p\n",
        "import matplotlib.pyplot as plt\n",
        "from sklearn.svm import SVR\n",
        "import pandas as pd\n",
        "import numpy as np\n",
        "#library\n",
        "import pandas as pd\n",
        "import seaborn as sns\n",
        "import matplotlib.pyplot as plt\n",
        "%matplotlib inline\n",
        "\n",
        "import numpy as np\n",
        "import random as rnd\n",
        "\n",
        "from sklearn import svm, tree, linear_model, neighbors, naive_bayes, ensemble, discriminant_analysis, gaussian_process\n",
        "from xgboost import XGBClassifier\n",
        "\n",
        "#Common Model Helpers\n",
        "from sklearn.preprocessing import OneHotEncoder, LabelEncoder\n",
        "from sklearn import feature_selection\n",
        "from sklearn import model_selection\n",
        "from sklearn import metrics\n",
        "\n",
        "#Visualization\n",
        "import matplotlib as mpl\n",
        "import matplotlib.pyplot as plt\n",
        "import matplotlib.pylab as pylab\n",
        "import seaborn as sns\n",
        "from pandas.plotting import scatter_matrix\n",
        "\n",
        "# Importing Models\n",
        "from sklearn import svm, tree, linear_model, neighbors, naive_bayes, ensemble, discriminant_analysis, gaussian_process\n",
        "\n",
        "from sklearn.linear_model import LogisticRegression\n",
        "from sklearn.tree import DecisionTreeClassifier\n",
        "from sklearn.discriminant_analysis import LinearDiscriminantAnalysis\n",
        "from sklearn.ensemble import AdaBoostClassifier, RandomForestClassifier, GradientBoostingClassifier\n",
        "from sklearn.neighbors import KNeighborsClassifier\n",
        "from sklearn.svm import SVC, LinearSVC\n",
        "from xgboost import XGBClassifier\n",
        "from lightgbm import LGBMClassifier\n",
        "\n",
        "# Importing other tools\n",
        "from sklearn import model_selection\n",
        "from sklearn.metrics import confusion_matrix, classification_report, make_scorer\n",
        "from sklearn.metrics import accuracy_score, recall_score, precision_recall_curve\n",
        "from sklearn.model_selection import StratifiedKFold, cross_validate\n",
        "from sklearn.preprocessing import StandardScaler\n",
        "from sklearn.pipeline import Pipeline\n",
        "from sklearn.calibration import CalibratedClassifierCV"
      ],
      "execution_count": 0,
      "outputs": []
    },
    {
      "cell_type": "code",
      "metadata": {
        "id": "jxJHugVEiYUD",
        "colab_type": "code",
        "colab": {}
      },
      "source": [
        "# from google.colab import drive\n",
        "# drive.mount('/content/drive')"
      ],
      "execution_count": 0,
      "outputs": []
    },
    {
      "cell_type": "markdown",
      "metadata": {
        "id": "eOEzZA7cdHK5",
        "colab_type": "text"
      },
      "source": [
        "##3.Data Preprocessing"
      ]
    },
    {
      "cell_type": "code",
      "metadata": {
        "id": "y_ZwxUvikuNi",
        "colab_type": "code",
        "colab": {}
      },
      "source": [
        "#Loading Data\n",
        "df = pd.read_csv('https://raw.githubusercontent.com/shrikantnarayankar15/hourse_rent_insaid/master/train.csv',index_col=0)\n",
        "test_data = pd.read_csv('https://raw.githubusercontent.com/shrikantnarayankar15/hourse_rent_insaid/master/test.csv', index_col=0)"
      ],
      "execution_count": 0,
      "outputs": []
    },
    {
      "cell_type": "markdown",
      "metadata": {
        "id": "1IsAka6RYSxM",
        "colab_type": "text"
      },
      "source": [
        "###1.Removing Outliers"
      ]
    },
    {
      "cell_type": "code",
      "metadata": {
        "id": "2nGLwQyGXFJt",
        "colab_type": "code",
        "colab": {}
      },
      "source": [
        "sns.scatterplot(x=\"GrLivArea\", y=\"SalePrice\", data=df)"
      ],
      "execution_count": 0,
      "outputs": []
    },
    {
      "cell_type": "code",
      "metadata": {
        "id": "yMgN7-xCBeTu",
        "colab_type": "code",
        "colab": {}
      },
      "source": [
        "df = df[~(df.GrLivArea>4500)]"
      ],
      "execution_count": 0,
      "outputs": []
    },
    {
      "cell_type": "code",
      "metadata": {
        "id": "1o22PjEeaxu3",
        "colab_type": "code",
        "colab": {}
      },
      "source": [
        "sns.scatterplot(x=\"GrLivArea\", y=\"SalePrice\", data=df)"
      ],
      "execution_count": 0,
      "outputs": []
    },
    {
      "cell_type": "markdown",
      "metadata": {
        "id": "PRdWyFQra2-M",
        "colab_type": "text"
      },
      "source": [
        "###2.Combining test and training dataset\n",
        "**test** dataset does not have independent variable i.e.output variable thats why while combining we are concatenating train dataset with test dataset without SalePrice feature."
      ]
    },
    {
      "cell_type": "code",
      "metadata": {
        "id": "-qhmo73z_RUN",
        "colab_type": "code",
        "colab": {}
      },
      "source": [
        "X = pd.concat([df.drop(\"SalePrice\", axis=1), test_data])"
      ],
      "execution_count": 0,
      "outputs": []
    },
    {
      "cell_type": "code",
      "metadata": {
        "id": "Vo971-iL_f6r",
        "colab_type": "code",
        "colab": {}
      },
      "source": [
        "X.head()"
      ],
      "execution_count": 0,
      "outputs": []
    },
    {
      "cell_type": "markdown",
      "metadata": {
        "id": "jCqiANJQk-AR",
        "colab_type": "text"
      },
      "source": [
        "df.head()"
      ]
    },
    {
      "cell_type": "markdown",
      "metadata": {
        "id": "gkG-btHwKsoO",
        "colab_type": "text"
      },
      "source": [
        "###3.data Description\n",
        "\n",
        "\n",
        "*   Total 1460 rows are there\n",
        "*   81 columns are there\n",
        "\n",
        "\n",
        "\n"
      ]
    },
    {
      "cell_type": "code",
      "metadata": {
        "id": "63sQVnNHPtCk",
        "colab_type": "code",
        "colab": {}
      },
      "source": [
        "X.describe()"
      ],
      "execution_count": 0,
      "outputs": []
    },
    {
      "cell_type": "code",
      "metadata": {
        "id": "ZFxcTutvM8ZU",
        "colab_type": "code",
        "colab": {}
      },
      "source": [
        "# from  pandas_profiling import ProfileReport\n",
        "# profile = ProfileReport(test_data, title='Pandas Profiling Report', html={'style':{'full_width':True}})\n",
        "# # profile.to_notebook_iframe()\n",
        "# profile.to_file(output_file=\"output.html\")"
      ],
      "execution_count": 0,
      "outputs": []
    },
    {
      "cell_type": "markdown",
      "metadata": {
        "id": "ZD8w5X_RdA8e",
        "colab_type": "text"
      },
      "source": [
        "###4.Checking Null Values"
      ]
    },
    {
      "cell_type": "markdown",
      "metadata": {
        "id": "RCfcCMCgdsFR",
        "colab_type": "text"
      },
      "source": [
        "####1.Columns with high number of NaN"
      ]
    },
    {
      "cell_type": "code",
      "metadata": {
        "id": "o6UnKGSJdaWh",
        "colab_type": "code",
        "colab": {}
      },
      "source": [
        "# missing values\n",
        "w = X.isnull().sum()\n",
        "w = w[w>0]\n",
        "w.sort_values(ascending=False)[:5]"
      ],
      "execution_count": 0,
      "outputs": []
    },
    {
      "cell_type": "code",
      "metadata": {
        "id": "eYQVXvvk4c5Z",
        "colab_type": "code",
        "colab": {}
      },
      "source": [
        "X.drop(['PoolQC', 'MiscFeature', 'Alley', 'Fence', 'FireplaceQu'], axis=1, inplace=True)"
      ],
      "execution_count": 0,
      "outputs": []
    },
    {
      "cell_type": "markdown",
      "metadata": {
        "id": "xbkPErhydysH",
        "colab_type": "text"
      },
      "source": [
        "we will drop this columns as they high nnumber of Null values"
      ]
    },
    {
      "cell_type": "code",
      "metadata": {
        "id": "6uMdgyU6bEnj",
        "colab_type": "code",
        "colab": {}
      },
      "source": [
        "w = X.isnull().sum()\n",
        "w = w[w>0]\n",
        "w.sort_values(ascending=False)"
      ],
      "execution_count": 0,
      "outputs": []
    },
    {
      "cell_type": "markdown",
      "metadata": {
        "id": "qzMe4PdEd7gU",
        "colab_type": "text"
      },
      "source": [
        "\n",
        "**2**.filling null values\n",
        "we Are filling null values with Neighborhood, we selected this feature to fill null values because area wise they have high chances of probablity that they may have same feature."
      ]
    },
    {
      "cell_type": "code",
      "metadata": {
        "id": "Do6b_bnd4qpm",
        "colab_type": "code",
        "colab": {}
      },
      "source": [
        "# LotFrontage and MasVnrArea are continous variables\n",
        "conts_cols = ['LotFrontage', 'MasVnrArea', 'BsmtFullBath','BsmtHalfBath','TotalBsmtSF','BsmtUnfSF','BsmtFinSF2','BsmtFinSF1','GarageArea','GarageCars',]\n",
        "X[conts_cols] = X.groupby(\"Neighborhood\")[conts_cols].transform(lambda x: x.fillna(x.median()))"
      ],
      "execution_count": 0,
      "outputs": []
    },
    {
      "cell_type": "code",
      "metadata": {
        "id": "xQiUP7w94t54",
        "colab_type": "code",
        "colab": {}
      },
      "source": [
        "# fill the categorical variables\n",
        "conts_cols = ['GarageCond','MSZoning', 'Functional','SaleType', 'KitchenQual',\n",
        "       'Exterior2nd', 'Exterior1st','Utilities','GarageYrBlt','GarageFinish','GarageQual','GarageType','BsmtFinType2','BsmtExposure','BsmtFinType1','BsmtCond','BsmtQual','MasVnrType','Electrical']\n",
        "X[conts_cols] = X.groupby(\"Neighborhood\")[conts_cols].transform(lambda x: x.fillna(x.mode()[0]))"
      ],
      "execution_count": 0,
      "outputs": []
    },
    {
      "cell_type": "code",
      "metadata": {
        "id": "DUOmciMjg-qn",
        "colab_type": "code",
        "colab": {}
      },
      "source": [
        "#check null values\n",
        "w = X.isnull().sum()\n",
        "w = w[w>0]\n",
        "w.sort_values(ascending=False)"
      ],
      "execution_count": 0,
      "outputs": []
    },
    {
      "cell_type": "markdown",
      "metadata": {
        "id": "dbStef-Geq7B",
        "colab_type": "text"
      },
      "source": [
        "###5.Checking the 0 values"
      ]
    },
    {
      "cell_type": "code",
      "metadata": {
        "id": "wia9_JcdfEY8",
        "colab_type": "code",
        "colab": {}
      },
      "source": [
        "w=(X==0).sum()\n",
        "w = w[w>0]\n",
        "w.head()"
      ],
      "execution_count": 0,
      "outputs": []
    },
    {
      "cell_type": "markdown",
      "metadata": {
        "id": "t4tB1BTsfVpE",
        "colab_type": "text"
      },
      "source": [
        "As we can see the MasVnrArea have too many 0 values which is why we are going to remove it. also BsmtFinSF2 "
      ]
    },
    {
      "cell_type": "code",
      "metadata": {
        "id": "EMgYbqHDgG4c",
        "colab_type": "code",
        "colab": {}
      },
      "source": [
        "(X==0).sum().nlargest(7)"
      ],
      "execution_count": 0,
      "outputs": []
    },
    {
      "cell_type": "code",
      "metadata": {
        "id": "N1VMo9Rreitt",
        "colab_type": "code",
        "colab": {}
      },
      "source": [
        "X.drop(['BsmtFinSF2', 'MiscVal', 'PoolArea','LowQualFinSF'], axis=1,inplace=True)"
      ],
      "execution_count": 0,
      "outputs": []
    },
    {
      "cell_type": "markdown",
      "metadata": {
        "id": "PjUKL3Ybfwyr",
        "colab_type": "text"
      },
      "source": [
        "###6.Combining features"
      ]
    },
    {
      "cell_type": "code",
      "metadata": {
        "id": "7K_0y6Gofvwz",
        "colab_type": "code",
        "colab": {}
      },
      "source": [
        "X[\"TotalSF\"] = X[\"GrLivArea\"] + X[\"TotalBsmtSF\"]\n",
        "X[\"TotalPorchSF\"] = X[\"OpenPorchSF\"] + X[\"EnclosedPorch\"] + X[\"3SsnPorch\"] + X[\"ScreenPorch\"]\n",
        "X[\"TotalBath\"] = X[\"FullBath\"] + X[\"BsmtFullBath\"] + 0.5 * (X[\"BsmtHalfBath\"] + X[\"HalfBath\"])"
      ],
      "execution_count": 0,
      "outputs": []
    },
    {
      "cell_type": "code",
      "metadata": {
        "id": "upRIYP-If4rf",
        "colab_type": "code",
        "colab": {}
      },
      "source": [
        "X.drop(['GrLivArea', 'TotalBsmtSF','OpenPorchSF','EnclosedPorch','3SsnPorch','ScreenPorch','FullBath','BsmtFullBath','BsmtHalfBath','HalfBath'],axis=1,inplace=True)"
      ],
      "execution_count": 0,
      "outputs": []
    },
    {
      "cell_type": "code",
      "metadata": {
        "id": "pdA-R-_nf-O2",
        "colab_type": "code",
        "colab": {}
      },
      "source": [
        ""
      ],
      "execution_count": 0,
      "outputs": []
    },
    {
      "cell_type": "markdown",
      "metadata": {
        "id": "Whh8FqhNhNhZ",
        "colab_type": "text"
      },
      "source": [
        "##4.EDA on hour-price"
      ]
    },
    {
      "cell_type": "markdown",
      "metadata": {
        "id": "wvXLuCF9g-XK",
        "colab_type": "text"
      },
      "source": [
        "###1.Saleprice bar chart\n"
      ]
    },
    {
      "cell_type": "code",
      "metadata": {
        "id": "8HZJnOtnAYaO",
        "colab_type": "code",
        "colab": {}
      },
      "source": [
        "#Type of house and price\n",
        "df.groupby(['MSSubClass'])['SalePrice'].mean().sort_values(ascending=False).plot.bar()"
      ],
      "execution_count": 0,
      "outputs": []
    },
    {
      "cell_type": "markdown",
      "metadata": {
        "id": "cG3rdF9zkxwi",
        "colab_type": "text"
      },
      "source": [
        "from here we can say the type<br>\n",
        "60-   2-STORY 1946 & NEWERare having highest saleprice<br>\n",
        "after that 120, 75, 20 and so on "
      ]
    },
    {
      "cell_type": "code",
      "metadata": {
        "id": "aV2OnIl5Qn0s",
        "colab_type": "code",
        "colab": {}
      },
      "source": [
        "# #is any year correlated to price?\n",
        "# import seaborn as sns\n",
        "# year_columns = ['YearBuilt', 'YearRemodAdd', 'GarageYrBlt', 'YrSold']\n",
        "# df_year = df.loc[:,year_columns+['SalePrice']]\n",
        "\n",
        "# fig, axs = plt.subplots(2,2,figsize=(10,10))\n",
        "# axs = axs.ravel(order='F')\n",
        "# dicto = {'null_values':[], 'null_value %':[], 'column_name':[]}\n",
        "# for i,column in enumerate(year_columns):\n",
        "#   sns.lineplot(x=column, y=\"SalePrice\", data=df_year, ax=axs[i])\n",
        "# # plt.tight_layout(pad=4.0)\n",
        "# # axs = axs.ravel(order='F')\n"
      ],
      "execution_count": 0,
      "outputs": []
    },
    {
      "cell_type": "code",
      "metadata": {
        "id": "b_pvx1ghX1GN",
        "colab_type": "code",
        "colab": {}
      },
      "source": [
        "#Type of house and price\n",
        "df.groupby(['MSZoning'])['SalePrice'].mean().sort_values(ascending=False).plot.bar()"
      ],
      "execution_count": 0,
      "outputs": []
    },
    {
      "cell_type": "markdown",
      "metadata": {
        "id": "53XOCq4ThjFz",
        "colab_type": "text"
      },
      "source": [
        "Floating Village Residential are having higher sale price <br>\n",
        "commercial are having cheaper rates"
      ]
    },
    {
      "cell_type": "code",
      "metadata": {
        "id": "VkHtbfPoY-PU",
        "colab_type": "code",
        "colab": {}
      },
      "source": [
        "fig, axs = plt.subplots(1,2,figsize=(20,10))\n",
        "axs = axs.ravel(order='F')\n",
        "sns.scatterplot(x='LotFrontage', y=\"SalePrice\", data=df,ax=axs[0])\n",
        "sns.scatterplot(x='LotArea', y=\"SalePrice\", data=df, ax=axs[1])\n"
      ],
      "execution_count": 0,
      "outputs": []
    },
    {
      "cell_type": "code",
      "metadata": {
        "id": "1g8B4-9FlTYW",
        "colab_type": "code",
        "colab": {}
      },
      "source": [
        "df.loc[:,['LotFrontage','LotArea','SalePrice']].corr()"
      ],
      "execution_count": 0,
      "outputs": []
    },
    {
      "cell_type": "markdown",
      "metadata": {
        "id": "xBmbvZAvZTiS",
        "colab_type": "text"
      },
      "source": [
        "From here we can say if lotarea and lotfrontage will increase sale price will increase too"
      ]
    },
    {
      "cell_type": "code",
      "metadata": {
        "id": "hy9kUcZmZPcj",
        "colab_type": "code",
        "colab": {}
      },
      "source": [
        "df.groupby(['Street'])['SalePrice'].mean().plot.bar()"
      ],
      "execution_count": 0,
      "outputs": []
    },
    {
      "cell_type": "markdown",
      "metadata": {
        "id": "xoL0dHyiaCh1",
        "colab_type": "text"
      },
      "source": [
        "Street Paved have more sale price "
      ]
    },
    {
      "cell_type": "code",
      "metadata": {
        "id": "NjwCxT0HhmZd",
        "colab_type": "code",
        "colab": {}
      },
      "source": [
        "df.groupby(['LotShape'])['SalePrice'].mean().plot.bar()"
      ],
      "execution_count": 0,
      "outputs": []
    },
    {
      "cell_type": "code",
      "metadata": {
        "id": "Cl6bxZnRiSAp",
        "colab_type": "code",
        "colab": {}
      },
      "source": [
        "df.groupby(['LandContour'])['SalePrice'].mean().plot.bar()"
      ],
      "execution_count": 0,
      "outputs": []
    },
    {
      "cell_type": "code",
      "metadata": {
        "id": "Od90N3xqiYVK",
        "colab_type": "code",
        "colab": {}
      },
      "source": [
        "df.groupby(['Utilities'])['SalePrice'].mean().plot.bar()"
      ],
      "execution_count": 0,
      "outputs": []
    },
    {
      "cell_type": "code",
      "metadata": {
        "id": "fFrzPf_xif3V",
        "colab_type": "code",
        "colab": {}
      },
      "source": [
        "df.groupby(['LotConfig'])['SalePrice'].mean().plot.bar()"
      ],
      "execution_count": 0,
      "outputs": []
    },
    {
      "cell_type": "code",
      "metadata": {
        "id": "ITo4wITwim22",
        "colab_type": "code",
        "colab": {}
      },
      "source": [
        "df.groupby(['LandSlope'])['SalePrice'].mean().plot.bar()"
      ],
      "execution_count": 0,
      "outputs": []
    },
    {
      "cell_type": "code",
      "metadata": {
        "id": "D9ZFetE7iobG",
        "colab_type": "code",
        "colab": {}
      },
      "source": [
        "df.groupby(['Neighborhood'])['SalePrice'].mean().sort_values(ascending=False).plot.bar()"
      ],
      "execution_count": 0,
      "outputs": []
    },
    {
      "cell_type": "code",
      "metadata": {
        "id": "cSW0tYLkiy_C",
        "colab_type": "code",
        "colab": {}
      },
      "source": [
        "df.groupby(['BldgType'])['SalePrice'].mean().sort_values(ascending=False).plot.bar()"
      ],
      "execution_count": 0,
      "outputs": []
    },
    {
      "cell_type": "code",
      "metadata": {
        "id": "JwpfiU2mjE65",
        "colab_type": "code",
        "colab": {}
      },
      "source": [
        "df.groupby(['OverallQual'])['SalePrice'].mean().sort_values(ascending=False).plot.bar()\n"
      ],
      "execution_count": 0,
      "outputs": []
    },
    {
      "cell_type": "code",
      "metadata": {
        "id": "Yi5FrUWbmyXs",
        "colab_type": "code",
        "colab": {}
      },
      "source": [
        "df.groupby(['RoofStyle'])['SalePrice'].mean().sort_values(ascending=False).plot.bar()"
      ],
      "execution_count": 0,
      "outputs": []
    },
    {
      "cell_type": "code",
      "metadata": {
        "id": "N3alyVL9m2aA",
        "colab_type": "code",
        "colab": {}
      },
      "source": [
        "df.groupby(['RoofMatl'])['SalePrice'].mean().sort_values(ascending=False).plot.bar()"
      ],
      "execution_count": 0,
      "outputs": []
    },
    {
      "cell_type": "code",
      "metadata": {
        "id": "IzitGH_4m5mr",
        "colab_type": "code",
        "colab": {}
      },
      "source": [
        "df.groupby(['BsmtFullBath'])['SalePrice'].mean().sort_values(ascending=False).plot.bar()"
      ],
      "execution_count": 0,
      "outputs": []
    },
    {
      "cell_type": "code",
      "metadata": {
        "id": "A_W10reNoq4H",
        "colab_type": "code",
        "colab": {}
      },
      "source": [
        "# sns.scatterplot(x=\"GrLivArea\", y=\"SalePrice\", data=df)"
      ],
      "execution_count": 0,
      "outputs": []
    },
    {
      "cell_type": "markdown",
      "metadata": {
        "id": "oI_LUmS5zYan",
        "colab_type": "text"
      },
      "source": [
        ""
      ]
    },
    {
      "cell_type": "code",
      "metadata": {
        "id": "lQeh32H-m8Yk",
        "colab_type": "code",
        "colab": {}
      },
      "source": [
        "from sklearn.preprocessing import StandardScaler\n",
        "a = StandardScaler()\n",
        "\n",
        "df_sclar = a.fit_transform(df[['SalePrice','LotArea']])"
      ],
      "execution_count": 0,
      "outputs": []
    },
    {
      "cell_type": "code",
      "metadata": {
        "id": "RFXk4f7DpBIF",
        "colab_type": "code",
        "colab": {}
      },
      "source": [
        "#removing this outliers\n",
        "# X = X[~(X.GrLivArea>4500)]"
      ],
      "execution_count": 0,
      "outputs": []
    },
    {
      "cell_type": "markdown",
      "metadata": {
        "id": "vXPEtwqvl-bZ",
        "colab_type": "text"
      },
      "source": [
        "##5.Model Evaluation"
      ]
    },
    {
      "cell_type": "code",
      "metadata": {
        "id": "swsoOG18B5A0",
        "colab_type": "code",
        "colab": {}
      },
      "source": [
        "y_train = np.log(df[\"SalePrice\"])\n"
      ],
      "execution_count": 0,
      "outputs": []
    },
    {
      "cell_type": "code",
      "metadata": {
        "id": "0LuR91gGCIUN",
        "colab_type": "code",
        "colab": {}
      },
      "source": [
        "X = pd.get_dummies(X)\n"
      ],
      "execution_count": 0,
      "outputs": []
    },
    {
      "cell_type": "code",
      "metadata": {
        "id": "JwqF3fOEcWIu",
        "colab_type": "code",
        "colab": {}
      },
      "source": [
        ""
      ],
      "execution_count": 0,
      "outputs": []
    },
    {
      "cell_type": "code",
      "metadata": {
        "id": "-fRzAGz6BNBm",
        "colab_type": "code",
        "colab": {}
      },
      "source": [
        "X_train = X.loc[df.index]\n",
        "X_test = X.loc[test_data.index]"
      ],
      "execution_count": 0,
      "outputs": []
    },
    {
      "cell_type": "code",
      "metadata": {
        "id": "11ScvS3qBu4b",
        "colab_type": "code",
        "colab": {}
      },
      "source": [
        "residuals = y_train - LinearRegression().fit(X_train, y_train).predict(X_train)\n",
        "outliers = residuals[np.abs(zscore(residuals)) > 3].index\n",
        "X_train = X_train.drop(outliers)\n",
        "y_train = y_train.drop(outliers)\n",
        "outliers"
      ],
      "execution_count": 0,
      "outputs": []
    },
    {
      "cell_type": "code",
      "metadata": {
        "id": "jvxgSeunSLun",
        "colab_type": "code",
        "colab": {}
      },
      "source": [
        "X_test.fillna(0,inplace=True)"
      ],
      "execution_count": 0,
      "outputs": []
    },
    {
      "cell_type": "code",
      "metadata": {
        "id": "9tkGy3e-CMqO",
        "colab_type": "code",
        "colab": {}
      },
      "source": [
        "from sklearn.linear_model import LinearRegression\n",
        "# clf = LinearRegression()\n",
        "# clf.fit(X_train, y_train)\n",
        "# y_pred = clf.predict(X_test)\n"
      ],
      "execution_count": 0,
      "outputs": []
    },
    {
      "cell_type": "code",
      "metadata": {
        "id": "sa_ZMxSVfOoE",
        "colab_type": "code",
        "colab": {}
      },
      "source": [
        "import warnings\n",
        "warnings.filterwarnings('ignore')"
      ],
      "execution_count": 0,
      "outputs": []
    },
    {
      "cell_type": "code",
      "metadata": {
        "id": "Vyw-bmXXbOma",
        "colab_type": "code",
        "colab": {}
      },
      "source": [
        "# from sklearn.preprocessing import StandardScaler\n",
        "# a = StandardScaler()\n",
        "# X_train = a.fit_transform(X_train)\n",
        "from sklearn.preprocessing import normalize\n"
      ],
      "execution_count": 0,
      "outputs": []
    },
    {
      "cell_type": "code",
      "metadata": {
        "id": "baJ7_bU1W_pu",
        "colab_type": "code",
        "colab": {}
      },
      "source": [
        "from sklearn.model_selection import train_test_split\n",
        "X_th, x_tr, y_th,y_tr = train_test_split(X_train, y_train, test_size=0.2)"
      ],
      "execution_count": 0,
      "outputs": []
    },
    {
      "cell_type": "code",
      "metadata": {
        "id": "zEjcLibjfvHF",
        "colab_type": "code",
        "colab": {}
      },
      "source": [
        "from sklearn import linear_model\n",
        "from sklearn.metrics import mean_squared_error\n",
        "from sklearn import tree\n",
        "from math import sqrt\n",
        "clf = GradientBoostingRegressor(n_estimators=100, learning_rate=0.1,max_depth=1, random_state=0, loss='ls')\n",
        "clf.fit(X_th, y_th)\n",
        "y_pred = clf.predict(x_tr)\n",
        "rms = sqrt(mean_squared_error(y_tr, y_pred))\n",
        "print(rms)"
      ],
      "execution_count": 0,
      "outputs": []
    },
    {
      "cell_type": "code",
      "metadata": {
        "id": "A_3sK0MEo87D",
        "colab_type": "code",
        "colab": {}
      },
      "source": [
        "model = linear_model.ElasticNetCV(alphas=np.logspace(-6, 6, 13))\n",
        "model.fit(X_th, y_th)\n",
        "y_pred = model.predict(x_tr)\n",
        "rms = sqrt(mean_squared_error(y_tr, y_pred))\n",
        "print(rms)"
      ],
      "execution_count": 0,
      "outputs": []
    },
    {
      "cell_type": "code",
      "metadata": {
        "id": "cBHueSqtU2FK",
        "colab_type": "code",
        "colab": {}
      },
      "source": [
        "from sklearn.neural_network import MLPRegressor\n",
        "from sklearn.ensemble import AdaBoostRegressor\n",
        "from xgboost import XGBRegressor\n",
        "\n",
        "model = XGBRegressor()\n",
        "model.fit(X_th, y_th)\n",
        "y_pred = model.predict(x_tr)\n",
        "rms = sqrt(mean_squared_error(y_tr, y_pred))\n",
        "print(rms)"
      ],
      "execution_count": 0,
      "outputs": []
    },
    {
      "cell_type": "code",
      "metadata": {
        "id": "jJ1wkU26WJOI",
        "colab_type": "code",
        "colab": {}
      },
      "source": [
        "y_pred"
      ],
      "execution_count": 0,
      "outputs": []
    },
    {
      "cell_type": "code",
      "metadata": {
        "id": "HAdM60FZhGMI",
        "colab_type": "code",
        "colab": {}
      },
      "source": [
        "# from sklearn.preprocessing import PolynomialFeatures\n",
        "# poly = PolynomialFeatures(degree=2)\n",
        "# X_th = poly.fit_transform(X_th)"
      ],
      "execution_count": 0,
      "outputs": []
    },
    {
      "cell_type": "code",
      "metadata": {
        "id": "jijTMIOBls1K",
        "colab_type": "code",
        "colab": {}
      },
      "source": [
        "from sklearn.ensemble import VotingRegressor\n",
        "from sklearn.ensemble import StackingRegressor\n",
        "from sklearn.linear_model import RidgeCV\n",
        "from sklearn.ensemble import RandomForestRegressor\n",
        "\n",
        "#create a dictionary of our models\n",
        "elastic = linear_model.ElasticNetCV(alphas=np.logspace(-6, 6, 13))\n",
        "lasso = linear_model.LassoCV(alphas=np.logspace(-6, 6, 13))\n",
        "ridge = linear_model.RidgeCV(alphas=np.logspace(-6, 6, 13))\n",
        "xgb = XGBRegressor()\n",
        "estimators=[('Elastic',elastic ),('ridge',ridge), ('xgb',xgb)]\n",
        "ensemble = VotingRegressor(estimators)\n",
        "final_layer = StackingRegressor(\n",
        "estimators=[('rf', RandomForestRegressor(random_state=42)),\n",
        "('gbrt', GradientBoostingRegressor(random_state=42))],\n",
        "final_estimator=linear_model.LassoCV()\n",
        ")\n",
        "reg = StackingRegressor(estimators=estimators,final_estimator=final_layer)\n",
        "reg.fit(X_th, y_th)\n",
        "#test our model on the test data\n",
        "print(reg.score(x_tr, y_tr))\n",
        "y_pred = reg.predict(x_tr)\n",
        "rms = sqrt(mean_squared_error(y_tr, y_pred))\n",
        "print(rms)"
      ],
      "execution_count": 0,
      "outputs": []
    },
    {
      "cell_type": "code",
      "metadata": {
        "id": "3RUEpp5vRCXF",
        "colab_type": "code",
        "colab": {}
      },
      "source": [
        "# from sklearn import linear_model\n",
        "# clf = linear_model.ElasticNetCV(alphas=np.logspace(-6, 6, 13))\n",
        "reg.fit(X_train, y_train)\n",
        "y_pred = reg.predict(X_test)"
      ],
      "execution_count": 0,
      "outputs": []
    },
    {
      "cell_type": "code",
      "metadata": {
        "id": "yPOoZtghpZlz",
        "colab_type": "code",
        "colab": {}
      },
      "source": [
        "from sklearn.linear_model import ElasticNet\n",
        "kf = KFold(n_splits=6, random_state=0, shuffle=True)\n",
        "rmse = lambda y, y_pred: np.sqrt(mean_squared_error(y, y_pred))\n",
        "scorer = make_scorer(rmse, greater_is_better=False)\n",
        "def random_search(model, grid, n_iter=100):\n",
        "    n_jobs = max(cpu_count() -1, 1)\n",
        "    search = RandomizedSearchCV(model, grid, n_iter, scorer, n_jobs=n_jobs, cv=kf, random_state=0, verbose=True)\n",
        "    return search.fit(X_train, y_train)\n",
        "ridge_search = random_search(Ridge(), {\"alpha\": np.logspace(-1, 2, 500)})\n",
        "lasso_search = random_search(Lasso(), {\"alpha\": np.logspace(-5, -1, 500)})\n",
        "elastic = random_search(ElasticNet(), {\"alpha\": np.logspace(-5, -1, 500)})\n",
        "svr_search = random_search(SVR(), {\"C\": np.arange(1, 100), \"gamma\": np.linspace(0.00001, 0.001, 50), \"epsilon\": np.linspace(0.01, 0.1, 50)})\n",
        "lgbm_search = random_search(LGBMRegressor(n_estimators=2000, max_depth=3), {\"colsample_bytree\": np.linspace(0.2, 0.7, 6), \"learning_rate\": np.logspace(-3, -1, 100)})\n",
        "gbm_search = random_search(GradientBoostingRegressor(n_estimators=2000, max_depth=3), {\"max_features\": np.linspace(0.2, 0.7, 6), \"learning_rate\": np.logspace(-3, -1, 100)})\n",
        "models = [search.best_estimator_ for search in [ridge_search, lasso_search, elastic,svr_search, lgbm_search, gbm_search]]\n",
        "stack_search = random_search(StackingCVRegressor(models, Ridge(), cv=kf), {\"meta_regressor__alpha\": np.logspace(-3, -2, 500)}, n_iter=20)\n",
        "models.append(stack_search.best_estimator_)\n",
        "preds = [model.predict(X_test) for model in models]"
      ],
      "execution_count": 0,
      "outputs": []
    },
    {
      "cell_type": "code",
      "metadata": {
        "id": "3qUPubK5qmw-",
        "colab_type": "code",
        "colab": {}
      },
      "source": [
        "preds = [model.predict(X_test) for model in models]\n",
        "preds = np.average(preds, axis=0)\n"
      ],
      "execution_count": 0,
      "outputs": []
    },
    {
      "cell_type": "code",
      "metadata": {
        "id": "58k0oXyACn4k",
        "colab_type": "code",
        "colab": {}
      },
      "source": [
        "submission = pd.DataFrame({\"Id\": test_data.index.values, \"SalePrice\":np.exp(y_pred)})\n",
        "submission.to_csv(\"submission_house_rent.csv\", index=False)"
      ],
      "execution_count": 0,
      "outputs": []
    },
    {
      "cell_type": "markdown",
      "metadata": {
        "id": "J-q4_u1a6pmK",
        "colab_type": "text"
      },
      "source": [
        "train_data = pd.get_dummies(X)\n",
        "train_data.head()"
      ]
    },
    {
      "cell_type": "code",
      "metadata": {
        "id": "wK11WM8O926M",
        "colab_type": "code",
        "colab": {}
      },
      "source": [
        "test_data = pd.get_dummies(test_data)"
      ],
      "execution_count": 0,
      "outputs": []
    },
    {
      "cell_type": "code",
      "metadata": {
        "id": "6Ry6Lx0E97VD",
        "colab_type": "code",
        "colab": {}
      },
      "source": [
        "test_data.shape, train_data.shape"
      ],
      "execution_count": 0,
      "outputs": []
    },
    {
      "cell_type": "code",
      "metadata": {
        "id": "NY8KPo7R7nsi",
        "colab_type": "code",
        "colab": {}
      },
      "source": [
        "X = train_data.loc[:,train_data.columns != 'SalePrice']\n",
        "y = np.log(train_data['SalePrice'])"
      ],
      "execution_count": 0,
      "outputs": []
    },
    {
      "cell_type": "code",
      "metadata": {
        "id": "57gXVwY79zn4",
        "colab_type": "code",
        "colab": {}
      },
      "source": [
        ""
      ],
      "execution_count": 0,
      "outputs": []
    },
    {
      "cell_type": "code",
      "metadata": {
        "id": "F0wfme2-71Xm",
        "colab_type": "code",
        "colab": {}
      },
      "source": [
        "# from sklearn.model_selection import train_test_split\n",
        "# X_train, X_test, y_train, y_test = train_test_split(X,y, test_size=0.2)"
      ],
      "execution_count": 0,
      "outputs": []
    },
    {
      "cell_type": "code",
      "metadata": {
        "id": "PzsnoJnO9a4M",
        "colab_type": "code",
        "colab": {}
      },
      "source": [
        "from sklearn.linear_model import LinearRegression\n",
        "residuals = y_train - LinearRegression().fit(X_train, y_train).predict(X_train)\n",
        "outliers = residuals[np.abs(zscore(residuals)) > 3].index\n",
        "outliers"
      ],
      "execution_count": 0,
      "outputs": []
    },
    {
      "cell_type": "code",
      "metadata": {
        "id": "rrOqCYqM9fyV",
        "colab_type": "code",
        "colab": {}
      },
      "source": [
        "X_train = X_train.drop(outliers)\n",
        "y_train = y_train.drop(outliers)"
      ],
      "execution_count": 0,
      "outputs": []
    },
    {
      "cell_type": "code",
      "metadata": {
        "id": "JiExpqrr7xxa",
        "colab_type": "code",
        "colab": {}
      },
      "source": [
        "from sklearn.linear_model import LinearRegression\n",
        "clf = LinearRegression()\n",
        "clf.fit(X_train, y_train)\n",
        "from sklearn.metrics import mean_squared_error\n",
        "from math import sqrt\n",
        "y_pred = clf.predict(X_test)\n",
        "rms = sqrt(mean_squared_error(y_test, y_pred))\n",
        "print(rms)"
      ],
      "execution_count": 0,
      "outputs": []
    },
    {
      "cell_type": "code",
      "metadata": {
        "id": "accvMw0b8Uoq",
        "colab_type": "code",
        "colab": {}
      },
      "source": [
        "import xgboost\n",
        "# from sklearn import ensemble\n",
        "# params = {'n_estimators': 500, 'max_depth': 3, 'min_samples_split': 2,\n",
        "#           'learning_rate': 0.01, 'loss': 'ls'}\n",
        "clf = xgboost.XGBRegressor()\n",
        "clf.fit(X_train, y_train)\n",
        "from sklearn.metrics import mean_squared_error\n",
        "from math import sqrt\n",
        "\n",
        "y_pred = clf.predict(X_test)\n",
        "rms = sqrt(mean_squared_error(y_test, y_pred))\n",
        "print(rms)"
      ],
      "execution_count": 0,
      "outputs": []
    },
    {
      "cell_type": "code",
      "metadata": {
        "id": "xGPQRNwc4e8c",
        "colab_type": "code",
        "colab": {}
      },
      "source": [
        "null_table = pd.DataFrame(dicto)\n",
        "null_table.sort_values(by='null_values', ascending=False)"
      ],
      "execution_count": 0,
      "outputs": []
    },
    {
      "cell_type": "code",
      "metadata": {
        "id": "IGNODmA0A9gB",
        "colab_type": "code",
        "colab": {}
      },
      "source": [
        "df.drop(['PoolQC', 'MiscFeature', 'Alley', 'Fence', 'FireplaceQu','MasVnrType'], axis=1, inplace=True)"
      ],
      "execution_count": 0,
      "outputs": []
    },
    {
      "cell_type": "code",
      "metadata": {
        "id": "QHPmVjt_BAAT",
        "colab_type": "code",
        "colab": {}
      },
      "source": [
        "null_table.drop(null_table.nlargest(6, columns='null_values').index,axis=0, inplace=True)"
      ],
      "execution_count": 0,
      "outputs": []
    },
    {
      "cell_type": "code",
      "metadata": {
        "id": "wO4Hac9XBCRg",
        "colab_type": "code",
        "colab": {}
      },
      "source": [
        "null_table"
      ],
      "execution_count": 0,
      "outputs": []
    },
    {
      "cell_type": "code",
      "metadata": {
        "id": "Qd3ShaIiARTW",
        "colab_type": "code",
        "colab": {}
      },
      "source": [
        "cols = [\"GarageCond\", \"GarageQual\", \"GarageFinish\", \"GarageType\", \"BsmtCond\", \"BsmtExposure\", \"BsmtQual\", \"BsmtFinType2\", \"BsmtFinType1\", \"Electrical\"]\n",
        "df[cols] = df.groupby(\"Neighborhood\")[cols].transform(lambda x: x.fillna(x.mode()[0]))\n",
        "\n",
        "# cols = [\"GarageYrBlt\", \"MasVnrArea\", \"BsmtHalfBath\", \"BsmtFullBath\", \"BsmtFinSF1\", \"BsmtFinSF2\", \"BsmtUnfSF\", \"TotalBsmtSF\", \"GarageCars\"]\n",
        "# X[cols] = X[cols].fillna(0)\n",
        "# cols = [\"MSZoning\", \"Utilities\", \"Exterior1st\", \"Exterior2nd\", \"SaleType\", \"Electrical\", \"KitchenQual\", \"Functional\"]\n",
        "# X[cols] = X.groupby(\"Neighborhood\")[cols].transform(lambda x: x.fillna(x.mode()[0]))\n",
        "# cols = [\"GarageArea\", \"LotFrontage\"]\n",
        "# X[cols] = X.groupby(\"Neighborhood\")[cols].transform(lambda x: x.fillna(x.median()))\n",
        "# Engineer features"
      ],
      "execution_count": 0,
      "outputs": []
    },
    {
      "cell_type": "markdown",
      "metadata": {
        "id": "dlUw4DBQPA5q",
        "colab_type": "text"
      },
      "source": [
        "###deleting the five columns\n",
        "PoolQC          \n",
        "\n",
        "MiscFeature     \n",
        "\n",
        "Alley           \n",
        "\n",
        "Fence           \n",
        "\n",
        "FireplaceQu      \n",
        "\n",
        "MasVnrType\n"
      ]
    },
    {
      "cell_type": "code",
      "metadata": {
        "id": "kcEteh9K_dqg",
        "colab_type": "code",
        "colab": {}
      },
      "source": [
        "#now for the continous variables\n",
        "w=df.isnull().sum().sort_values(ascending=False)\n",
        "w[w>0]\n",
        "cols = [\"GarageYrBlt\", \"LotFrontage\",\"MasVnrArea\"]\n",
        "df[cols] = df.groupby(\"Neighborhood\")[cols].transform(lambda x: x.fillna(x.median()))"
      ],
      "execution_count": 0,
      "outputs": []
    },
    {
      "cell_type": "code",
      "metadata": {
        "id": "FE882L6W--xE",
        "colab_type": "code",
        "colab": {}
      },
      "source": [
        "w=df.isnull().sum().sort_values(ascending=False)\n",
        "w[w>0]\n"
      ],
      "execution_count": 0,
      "outputs": []
    },
    {
      "cell_type": "code",
      "metadata": {
        "id": "SbiVUdxC0oWV",
        "colab_type": "code",
        "colab": {}
      },
      "source": [
        "# df = df.merge(pd.get_dummies(data=df, columns=['BsmtQual', 'GarageType']))\n"
      ],
      "execution_count": 0,
      "outputs": []
    },
    {
      "cell_type": "code",
      "metadata": {
        "id": "HgfAl1ELz7Eb",
        "colab_type": "code",
        "colab": {}
      },
      "source": [
        "# import seaborn as sns\n",
        "# plt.figure(figsize=(50,50))\n",
        "# corr = df.corr()\n",
        "# sns.heatmap(corr, annot=True)"
      ],
      "execution_count": 0,
      "outputs": []
    },
    {
      "cell_type": "code",
      "metadata": {
        "id": "zrOP_WNHSAbK",
        "colab_type": "code",
        "colab": {}
      },
      "source": [
        "X = df.loc[:, df.columns!='SalePrice']\n",
        "\n",
        "y = np.log(df['SalePrice'])"
      ],
      "execution_count": 0,
      "outputs": []
    },
    {
      "cell_type": "code",
      "metadata": {
        "id": "kPxm_THQ6NxK",
        "colab_type": "code",
        "colab": {}
      },
      "source": [
        "# from sklearn.preprocessing import StandardScaler\n",
        "# p = StandardScaler()\n",
        "# X = p.fit_transform(X)"
      ],
      "execution_count": 0,
      "outputs": []
    },
    {
      "cell_type": "code",
      "metadata": {
        "id": "qMuY5n0L7JWV",
        "colab_type": "code",
        "colab": {}
      },
      "source": [
        ""
      ],
      "execution_count": 0,
      "outputs": []
    },
    {
      "cell_type": "code",
      "metadata": {
        "id": "n4wWrrph6Djq",
        "colab_type": "code",
        "colab": {}
      },
      "source": [
        "#train split \n",
        "from sklearn.model_selection import train_test_split\n",
        "X_train, X_test, y_train, y_test = train_test_split(X,y, test_size=0.2, random_state=0)"
      ],
      "execution_count": 0,
      "outputs": []
    },
    {
      "cell_type": "code",
      "metadata": {
        "id": "86YjFzFaDL0R",
        "colab_type": "code",
        "colab": {}
      },
      "source": [
        "from sklearn.linear_model import LinearRegression\n",
        "residuals = y_train - LinearRegression().fit(X_train, y_train).predict(X_train)\n",
        "outliers = residuals[np.abs(zscore(residuals)) > 3].index"
      ],
      "execution_count": 0,
      "outputs": []
    },
    {
      "cell_type": "code",
      "metadata": {
        "id": "WRz8pXDLDh6H",
        "colab_type": "code",
        "colab": {}
      },
      "source": [
        "outliers"
      ],
      "execution_count": 0,
      "outputs": []
    },
    {
      "cell_type": "code",
      "metadata": {
        "id": "9l7l1o2oDkP1",
        "colab_type": "code",
        "colab": {}
      },
      "source": [
        "X_train.drop(outliers, inplace=True)\n",
        "y_train.drop(outliers, inplace=True)"
      ],
      "execution_count": 0,
      "outputs": []
    },
    {
      "cell_type": "code",
      "metadata": {
        "id": "J989CqRSE_EG",
        "colab_type": "code",
        "colab": {}
      },
      "source": [
        "kf = KFold(n_splits=5, random_state=0, shuffle=True)\n",
        "rmse = lambda y, y_pred: np.sqrt(mean_squared_error(y, y_pred))\n",
        "scorer = make_scorer(rmse, greater_is_better=False)\n",
        "def random_search(model, grid, n_iter=100):\n",
        "    n_jobs = max(cpu_count() -1, 1)\n",
        "    search = RandomizedSearchCV(model, grid, n_iter, scorer, n_jobs=n_jobs, cv=kf, random_state=0, verbose=True)\n",
        "    return search.fit(X_train, y_train)\n",
        "ridge_search = random_search(Ridge(), {\"alpha\": np.logspace(-1, 2, 500)})\n",
        "lasso_search = random_search(Lasso(), {\"alpha\": np.logspace(-5, -1, 500)})\n",
        "svr_search = random_search(SVR(), {\"C\": np.arange(1, 100), \"gamma\": np.linspace(0.00001, 0.001, 50), \"epsilon\": np.linspace(0.01, 0.1, 50)})\n",
        "lgbm_search = random_search(LGBMRegressor(n_estimators=2000, max_depth=3), {\"colsample_bytree\": np.linspace(0.2, 0.7, 6), \"learning_rate\": np.logspace(-3, -1, 100)})\n",
        "gbm_search = random_search(GradientBoostingRegressor(n_estimators=2000, max_depth=3), {\"max_features\": np.linspace(0.2, 0.7, 6), \"learning_rate\": np.logspace(-3, -1, 100)})\n",
        "models = [search.best_estimator_ for search in [ridge_search, lasso_search, svr_search, lgbm_search, gbm_search]]\n",
        "stack_search = random_search(StackingCVRegressor(models, Ridge(), cv=kf), {\"meta_regressor__alpha\": np.logspace(-3, -2, 500)}, n_iter=20)\n",
        "models.append(stack_search.best_estimator_)\n",
        "preds = [model.predict(X_test) for model in models]\n"
      ],
      "execution_count": 0,
      "outputs": []
    },
    {
      "cell_type": "code",
      "metadata": {
        "id": "cwiczTFyFqGa",
        "colab_type": "code",
        "colab": {}
      },
      "source": [
        "from sklearn.metrics import mean_squared_error\n",
        "from math import sqrt\n",
        "\n",
        "for i in preds:\n",
        "  rms = sqrt(mean_squared_error(y_test, i))\n",
        "\n",
        "  print(rms)"
      ],
      "execution_count": 0,
      "outputs": []
    },
    {
      "cell_type": "code",
      "metadata": {
        "id": "BkrziTR7FR3t",
        "colab_type": "code",
        "colab": {}
      },
      "source": [
        "y_test.values-preds[4]"
      ],
      "execution_count": 0,
      "outputs": []
    },
    {
      "cell_type": "code",
      "metadata": {
        "id": "38PCVO6h6Ei4",
        "colab_type": "code",
        "colab": {}
      },
      "source": [
        "import xgboost\n",
        "# from sklearn import ensemble\n",
        "# params = {'n_estimators': 500, 'max_depth': 3, 'min_samples_split': 2,\n",
        "#           'learning_rate': 0.01, 'loss': 'ls'}\n",
        "clf = xgboost.XGBRegressor()\n",
        "clf.fit(X_train, y_train)\n",
        "from sklearn.metrics import mean_squared_error\n",
        "from math import sqrt\n",
        "y_pred = clf.predict(X_test)\n",
        "rms = sqrt(mean_squared_error(y_test, y_pred))\n",
        "print(rms)"
      ],
      "execution_count": 0,
      "outputs": []
    },
    {
      "cell_type": "code",
      "metadata": {
        "id": "AQB7bWbBTqc0",
        "colab_type": "code",
        "colab": {}
      },
      "source": [
        "corr = df.corr()\n",
        "columns = np.full((corr.shape[0],), True, dtype=bool)\n",
        "for i in range(corr.shape[0]):\n",
        "    for j in range(i+1, corr.shape[0]):\n",
        "        if corr.iloc[i,j] >= 0.9:\n",
        "            if columns[j]:\n",
        "                columns[j] = False\n",
        "selected_columns = df.columns[columns]\n",
        "data = df[selected_columns]\n",
        "selected_columns = selected_columns[0:-1].values\n"
      ],
      "execution_count": 0,
      "outputs": []
    },
    {
      "cell_type": "code",
      "metadata": {
        "id": "YRG3x1jhVOLe",
        "colab_type": "code",
        "colab": {}
      },
      "source": [
        "X.shape, y.shape,len(selected_columns), df.shape"
      ],
      "execution_count": 0,
      "outputs": []
    },
    {
      "cell_type": "code",
      "metadata": {
        "id": "ztbBIP9RRde9",
        "colab_type": "code",
        "colab": {}
      },
      "source": [
        "\n",
        "import statsmodels.api as sm\n",
        "def backwardElimination(x, Y, sl, columns):\n",
        "    numVars = len(x[0])\n",
        "    for i in range(0, numVars):\n",
        "        regressor_OLS = sm.OLS(Y, x).fit()\n",
        "        maxVar = max(regressor_OLS.pvalues).astype(float)\n",
        "        if maxVar > sl:\n",
        "            for j in range(0, numVars - i):\n",
        "                if (regressor_OLS.pvalues[j].astype(float) == maxVar):\n",
        "                    x = np.delete(x, j, 1)\n",
        "                    columns = np.delete(columns, j)\n",
        "                    \n",
        "    regressor_OLS.summary()\n",
        "    return x, columns\n",
        "SL = 0.5\n",
        "data_modeled, selected_columns = backwardElimination(data.iloc[:,1:].values, data.iloc[:,0].values, SL, selected_columns)"
      ],
      "execution_count": 0,
      "outputs": []
    },
    {
      "cell_type": "code",
      "metadata": {
        "id": "jbKhclr0FzbN",
        "colab_type": "code",
        "colab": {}
      },
      "source": [
        "data = pd.DataFrame(data = data_modeled, columns = selected_columns)\n"
      ],
      "execution_count": 0,
      "outputs": []
    },
    {
      "cell_type": "code",
      "metadata": {
        "id": "LEygoNaSOVjw",
        "colab_type": "code",
        "colab": {}
      },
      "source": [
        "data.head()"
      ],
      "execution_count": 0,
      "outputs": []
    },
    {
      "cell_type": "code",
      "metadata": {
        "id": "ckFjRIyBI7B5",
        "colab_type": "code",
        "colab": {}
      },
      "source": [
        "from sklearn.preprocessing import StandardScaler\n",
        "p = StandardScaler()\n",
        "X = p.fit_transform(data)"
      ],
      "execution_count": 0,
      "outputs": []
    },
    {
      "cell_type": "code",
      "metadata": {
        "id": "2r5NKb_wbXwI",
        "colab_type": "code",
        "colab": {}
      },
      "source": [
        ""
      ],
      "execution_count": 0,
      "outputs": []
    },
    {
      "cell_type": "code",
      "metadata": {
        "id": "RKUzKIwpFlak",
        "colab_type": "code",
        "colab": {}
      },
      "source": [
        "#train split \n",
        "from sklearn.model_selection import train_test_split\n",
        "X_train, X_test, y_train, y_test = train_test_split(data,y, test_size=0.2, random_state=0)"
      ],
      "execution_count": 0,
      "outputs": []
    },
    {
      "cell_type": "code",
      "metadata": {
        "id": "BPo5DfjUFWlW",
        "colab_type": "code",
        "colab": {}
      },
      "source": [
        "#create model\n",
        "from sklearn.linear_model import LinearRegression\n",
        "model = LinearRegression()\n",
        "model.fit(X_train, y_train)"
      ],
      "execution_count": 0,
      "outputs": []
    },
    {
      "cell_type": "code",
      "metadata": {
        "id": "hma15t6RtFI1",
        "colab_type": "code",
        "colab": {}
      },
      "source": [
        "from sklearn.metrics import mean_squared_error\n",
        "from math import sqrt\n",
        "y_pred = model.predict(X_test)\n",
        "rms = sqrt(mean_squared_error(y_test, y_pred))\n",
        "print(rms)"
      ],
      "execution_count": 0,
      "outputs": []
    },
    {
      "cell_type": "code",
      "metadata": {
        "id": "1ud_4fortd2v",
        "colab_type": "code",
        "colab": {}
      },
      "source": [
        "from sklearn.linear_model import Lasso\n",
        "from sklearn import ensemble\n",
        "params = {'n_estimators': 500, 'max_depth': 3, 'min_samples_split': 2,\n",
        "          'learning_rate': 0.01, 'loss': 'ls'}\n",
        "clf = ensemble.GradientBoostingRegressor(**params)\n",
        "clf.fit(X_train, y_train)\n",
        "from sklearn.metrics import mean_squared_error\n",
        "from math import sqrt\n",
        "y_pred = clf.predict(X_test)\n",
        "rms = sqrt(mean_squared_error(y_test, y_pred))\n",
        "print(rms)"
      ],
      "execution_count": 0,
      "outputs": []
    },
    {
      "cell_type": "code",
      "metadata": {
        "id": "7d68As6S5ce0",
        "colab_type": "code",
        "colab": {}
      },
      "source": [
        "import xgboost\n",
        "# from sklearn import ensemble\n",
        "# params = {'n_estimators': 500, 'max_depth': 3, 'min_samples_split': 2,\n",
        "#           'learning_rate': 0.01, 'loss': 'ls'}\n",
        "clf = xgboost.XGBRegressor()\n",
        "clf.fit(X_train, y_train)\n",
        "from sklearn.metrics import mean_squared_error\n",
        "from math import sqrt\n",
        "y_pred = clf.predict(X_test)\n",
        "rms = sqrt(mean_squared_error(y_test, y_pred))\n",
        "print(rms)"
      ],
      "execution_count": 0,
      "outputs": []
    },
    {
      "cell_type": "code",
      "metadata": {
        "id": "uZdAXVsSawCF",
        "colab_type": "code",
        "colab": {}
      },
      "source": [
        ""
      ],
      "execution_count": 0,
      "outputs": []
    },
    {
      "cell_type": "markdown",
      "metadata": {
        "id": "-TsbSG8Mdl08",
        "colab_type": "text"
      },
      "source": [
        ""
      ]
    }
  ]
}